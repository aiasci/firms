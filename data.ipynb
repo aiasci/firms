{
 "cells": [
  {
   "cell_type": "code",
   "execution_count": 1,
   "source": [
    " # Required libraries\n",
    "import numpy as np\n",
    "import pandas as pd\n",
    "import string as st"
   ],
   "outputs": [],
   "metadata": {}
  },
  {
   "cell_type": "code",
   "execution_count": 2,
   "source": [
    "# Code for defining BALANCE SHEET as DataFrame\n",
    "df = pd.read_excel(\"https://github.com/aiasci/firms/blob/main/data/all/ALL_BS_TOTAL.xlsx?raw=true\")\n",
    " # Code for changing index as Sector Name\n",
    "df.index =np.repeat(df.iloc[0,0],len(df.index))\n",
    " # Enumareting the first column for ease\n",
    "df.loc[:,df.columns[0]]=list(np.arange(1, len(df.index)+1))\n",
    " # Getting rid of th NaN values\n",
    "df=df.dropna()\n",
    " # Renumareting the first column\n",
    "df.loc[:,df.columns[0]]=list(np.arange(1, len(df.index)+1))\n",
    " # Code for defining INCOME STATEMENT as DataFrame\n",
    "df1 = pd.read_excel(\"https://github.com/aiasci/firms/blob/main/data/all/ALL_IS_TOTAL.xlsx?raw=true\")\n",
    "# Code for changing index as Sector Name\n",
    "df1.index =np.repeat(df1.iloc[0,0],len(df1.index))\n",
    "# Enumareting the first column for ease\n",
    "df1.loc[:,df1.columns[0]]=list(np.arange(1, len(df1.index)+1))\n",
    "# Getting rid of th NaN values \n",
    "df1=df1.dropna()\n",
    "# Renumareting the first column\n",
    "df1.loc[:,df1.columns[0]]=list(np.arange(1, len(df1.index)+1))\n",
    "# Row binding the two DataFrames\n",
    "df=df.append(pd.DataFrame(data=df1),ignore_index=False)\n",
    "# Renumareting the first column\n",
    "df.loc[:,df.columns[0]]=list(np.arange(1, len(df.index)+1))\n"
   ],
   "outputs": [],
   "metadata": {}
  },
  {
   "cell_type": "code",
   "execution_count": 3,
   "source": [
    "# Creating a key for loops\n",
    "key_file=st.ascii_uppercase\n",
    "key_file=key_file[0:10]+key_file[11:14]+key_file[15:19]\n"
   ],
   "outputs": [],
   "metadata": {}
  },
  {
   "cell_type": "code",
   "execution_count": 4,
   "source": [
    "# Defining DataFrame for Each Sector's BALANCE SHEET\n",
    "for i in range(0, len(key_file)):\n",
    "    vars()[\"df_\"+key_file[i]] = pd.read_excel(\"https://github.com/aiasci/firms/blob/main/data/balance_sheet/1digit/total/\"+key_file[i]+\"_BS_TOTAL.xlsx?raw=true\")\n",
    "# Defining DataFrame for Each Sector's INCOME STATEMENT\n",
    "for i in range(0, len(key_file)):\n",
    "    vars()[\"df_1\"+key_file[i]] = pd.read_excel(\"https://github.com/aiasci/firms/blob/main/data/income_statement/1digit/total/\"+key_file[i]+\"_IS_TOTAL.xlsx?raw=true\")"
   ],
   "outputs": [],
   "metadata": {}
  },
  {
   "cell_type": "code",
   "execution_count": null,
   "source": [
    "# Manipulating Each Sector's DataFrames\n",
    "for i in range(0, len(key_file)):\n",
    "    vars()[\"df_\"+key_file[i]].index =np.repeat(vars()[\"df_\"+key_file[i]].iloc[0,0],len(vars()[\"df_\"+key_file[i]]))\n",
    "    vars()[\"df_\"+key_file[i]].loc[:,vars()[\"df_\"+key_file[i]].columns[0]]=list(np.arange(1, len(vars()[\"df_\"+key_file[i]].index)+1))\n",
    "    vars()[\"df_\"+key_file[i]]=vars()[\"df_\"+key_file[i]].dropna()\n",
    "    vars()[\"df_1\"+key_file[i]].index =np.repeat(vars()[\"df_1\"+key_file[i]].iloc[0,0],len(vars()[\"df_1\"+key_file[i]]))\n",
    "    vars()[\"df_1\"+key_file[i]].loc[:,vars()[\"df_1\"+key_file[i]].columns[0]]=list(np.arange(1, len(vars()[\"df_1\"+key_file[i]].index)+1))\n",
    "    vars()[\"df_1\"+key_file[i]]=vars()[\"df_1\"+key_file[i]].dropna()\n",
    "    vars()[\"df_1\"+key_file[i]].loc[:,vars()[\"df_1\"+key_file[i]].columns[0]]=list(np.arange(1, len(vars()[\"df_1\"+key_file[i]].index)+1))\n",
    "    vars()[\"df_\"+key_file[i]]=vars()[\"df_\"+key_file[i]].append(pd.DataFrame(data=vars()[\"df_1\"+key_file[i]]),ignore_index=False)\n",
    "    vars()[\"df_\"+key_file[i]].loc[:,vars()[\"df_\"+key_file[i]].columns[0]]=list(np.arange(1, len(vars()[\"df_\"+key_file[i]].index)+1))\n"
   ],
   "outputs": [],
   "metadata": {}
  },
  {
   "cell_type": "code",
   "execution_count": null,
   "source": [
    "# Merging all DataFrames\n",
    "for i in range(0, len(key_file)):\n",
    "    df= df.append(pd.DataFrame(data=vars()[\"df_\"+key_file[i]]),ignore_index=False)\n",
    "# Renaming columns\n",
    "df.columns = [\"n\",\"code\",2009,2010,2011,2012,2013,2014,2015,2016,2017,2018,2019]"
   ],
   "outputs": [],
   "metadata": {}
  },
  {
   "cell_type": "code",
   "execution_count": null,
   "source": [
    "# Saving it as excel\n",
    "df.to_excel(\"df.xlsx\", sheet_name = \"Sheet1\")"
   ],
   "outputs": [],
   "metadata": {}
  }
 ],
 "metadata": {
  "orig_nbformat": 4,
  "language_info": {
   "name": "python",
   "version": "3.9.6",
   "mimetype": "text/x-python",
   "codemirror_mode": {
    "name": "ipython",
    "version": 3
   },
   "pygments_lexer": "ipython3",
   "nbconvert_exporter": "python",
   "file_extension": ".py"
  },
  "kernelspec": {
   "name": "python3",
   "display_name": "Python 3.9.6 64-bit"
  },
  "interpreter": {
   "hash": "e7370f93d1d0cde622a1f8e1c04877d8463912d04d973331ad4851f04de6915a"
  }
 },
 "nbformat": 4,
 "nbformat_minor": 2
}