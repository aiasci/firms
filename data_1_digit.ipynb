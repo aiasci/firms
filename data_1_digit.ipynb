{
 "cells": [
  {
   "cell_type": "code",
   "execution_count": 92,
   "source": [
    " # Required libraries\n",
    "import numpy as np\n",
    "import pandas as pd\n",
    "import string as st"
   ],
   "outputs": [],
   "metadata": {}
  },
  {
   "cell_type": "code",
   "execution_count": 93,
   "source": [
    " # Creating a key for loops\n",
    "key_file=st.ascii_uppercase\n",
    "key_file=key_file[0:10]+key_file[11:14]+key_file[15:19]\n",
    "key_file_2 = [\"LARGE\",\"MEDIUM\",\"MICRO\",\"SMALL\"]\n",
    "len(key_file_2)"
   ],
   "outputs": [
    {
     "output_type": "execute_result",
     "data": {
      "text/plain": [
       "4"
      ]
     },
     "metadata": {},
     "execution_count": 93
    }
   ],
   "metadata": {}
  },
  {
   "cell_type": "code",
   "execution_count": 144,
   "source": [
    " # Defining DataFrame for Each Sector's BALANCE SHEET\n",
    "for i in range(0, len(key_file)-1):\n",
    "    for j in range(0,len(key_file_2)):\n",
    "        vars()[\"df_\"+key_file[i]+\"_\"+key_file_2[j]] = pd.read_excel(\"https://github.com/aiasci/firms/blob/main/data/balance_sheet/1digit/size/\"+key_file[i]+\"_BS_\"+key_file_2[j]+\".xlsx?raw=true\")\n",
    "for i in range(len(key_file)-1,len(key_file)):\n",
    "    for j in range(1,len(key_file_2)):\n",
    "        vars()[\"df_\"+key_file[i]+\"_\"+key_file_2[j]] = pd.read_excel(\"https://github.com/aiasci/firms/blob/main/data/balance_sheet/1digit/size/\"+key_file[i]+\"_BS_\"+key_file_2[j]+\".xlsx?raw=true\")"
   ],
   "outputs": [],
   "metadata": {}
  },
  {
   "cell_type": "code",
   "execution_count": 145,
   "source": [
    " # Defining DataFrame for Each Sector's INCOME STATEMENT\n",
    " for i in range(0, len(key_file)-1):\n",
    "    for j in range(0,len(key_file_2)):\n",
    "        vars()[\"df_1\"+key_file[i]+\"_\"+key_file_2[j]] = pd.read_excel(\"https://github.com/aiasci/firms/blob/main/data/income_statement/1digit/size/\"+key_file[i]+\"_IS_\"+key_file_2[j]+\".xlsx?raw=true\")\n",
    "for i in range(len(key_file)-1,len(key_file)):\n",
    "    for j in range(1,len(key_file_2)):\n",
    "        vars()[\"df_1\"+key_file[i]+\"_\"+key_file_2[j]] = pd.read_excel(\"https://github.com/aiasci/firms/blob/main/data/income_statement/1digit/size/\"+key_file[i]+\"_IS_\"+key_file_2[j]+\".xlsx?raw=true\")"
   ],
   "outputs": [],
   "metadata": {}
  }
 ],
 "metadata": {
  "orig_nbformat": 4,
  "language_info": {
   "name": "python",
   "version": "3.9.6",
   "mimetype": "text/x-python",
   "codemirror_mode": {
    "name": "ipython",
    "version": 3
   },
   "pygments_lexer": "ipython3",
   "nbconvert_exporter": "python",
   "file_extension": ".py"
  },
  "kernelspec": {
   "name": "python3",
   "display_name": "Python 3.9.6 64-bit"
  },
  "interpreter": {
   "hash": "e7370f93d1d0cde622a1f8e1c04877d8463912d04d973331ad4851f04de6915a"
  }
 },
 "nbformat": 4,
 "nbformat_minor": 2
}