{
 "cells": [
  {
   "cell_type": "code",
   "execution_count": 2,
   "source": [
    " # Required libraries\n",
    "import numpy as np\n",
    "import pandas as pd\n",
    "import string as st"
   ],
   "outputs": [],
   "metadata": {}
  },
  {
   "cell_type": "code",
   "execution_count": 3,
   "source": [
    " # Creating a key for loops\n",
    "key_file=st.ascii_uppercase\n",
    "key_file=key_file[0:10]+key_file[11:14]+key_file[15:19]\n",
    "key_file_2 = [\"LARGE\",\"MEDIUM\",\"MICRO\",\"SMALL\"]\n",
    "len(key_file_2)"
   ],
   "outputs": [
    {
     "output_type": "execute_result",
     "data": {
      "text/plain": [
       "4"
      ]
     },
     "metadata": {},
     "execution_count": 3
    }
   ],
   "metadata": {}
  },
  {
   "cell_type": "code",
   "execution_count": 4,
   "source": [
    " # Defining DataFrame for Each Sector's BALANCE SHEET\n",
    "for i in range(0, len(key_file)-1):\n",
    "    for j in range(0,len(key_file_2)):\n",
    "        vars()[\"df_\"+key_file[i]+\"_\"+key_file_2[j]] = pd.read_excel(\"https://github.com/aiasci/firms/blob/main/data/balance_sheet/1digit/size/\"+key_file[i]+\"_BS_\"+key_file_2[j]+\".xlsx?raw=true\")\n",
    "        vars()[\"df_\"+key_file[i]+\"_\"+key_file_2[j]][\"type\"]= key_file_2[j]\n",
    "for i in range(len(key_file)-1,len(key_file)):\n",
    "    for j in range(1,len(key_file_2)):\n",
    "        vars()[\"df_\"+key_file[i]+\"_\"+key_file_2[j]] = pd.read_excel(\"https://github.com/aiasci/firms/blob/main/data/balance_sheet/1digit/size/\"+key_file[i]+\"_BS_\"+key_file_2[j]+\".xlsx?raw=true\")\n",
    "        vars()[\"df_\"+key_file[i]+\"_\"+key_file_2[j]][\"type\"]= key_file_2[j]"
   ],
   "outputs": [],
   "metadata": {}
  },
  {
   "cell_type": "code",
   "execution_count": 5,
   "source": [
    "\n",
    " # Manipulating Each Sector's DataFrames\n",
    "for i in range(0, len(key_file)-1):\n",
    "    for j in range(0,len(key_file_2)):\n",
    "        vars()[\"df_\"+key_file[i]+\"_\"+key_file_2[j]].index =np.repeat(vars()[\"df_\"+key_file[i]+\"_\"+key_file_2[j]].iloc[0,0],len(vars()[\"df_\"+key_file[i]+\"_\"+key_file_2[j]]))\n",
    "        vars()[\"df_\"+key_file[i]+\"_\"+key_file_2[j]].loc[:,vars()[\"df_\"+key_file[i]+\"_\"+key_file_2[j]].columns[0]]=list(np.arange(1, len(vars()[\"df_\"+key_file[i]+\"_\"+key_file_2[j]].index)+1))\n",
    "        vars()[\"df_\"+key_file[i]+\"_\"+key_file_2[j]]=vars()[\"df_\"+key_file[i]+\"_\"+key_file_2[j]].dropna()\n",
    "        \n",
    "for i in range(len(key_file)-1,len(key_file)):\n",
    "    for j in range(1,len(key_file_2)):\n",
    "        vars()[\"df_\"+key_file[i]+\"_\"+key_file_2[j]].index =np.repeat(vars()[\"df_\"+key_file[i]+\"_\"+key_file_2[j]].iloc[0,0],len(vars()[\"df_\"+key_file[i]+\"_\"+key_file_2[j]]))\n",
    "        vars()[\"df_\"+key_file[i]+\"_\"+key_file_2[j]].loc[:,vars()[\"df_\"+key_file[i]+\"_\"+key_file_2[j]].columns[0]]=list(np.arange(1, len(vars()[\"df_\"+key_file[i]+\"_\"+key_file_2[j]].index)+1))\n",
    "        vars()[\"df_\"+key_file[i]+\"_\"+key_file_2[j]]=vars()[\"df_\"+key_file[i]+\"_\"+key_file_2[j]].dropna()"
   ],
   "outputs": [],
   "metadata": {}
  },
  {
   "cell_type": "code",
   "execution_count": 6,
   "source": [
    " # Defining DataFrame for Each Sector's INCOME STATEMENT\n",
    " for i in range(0, len(key_file)-1):\n",
    "    for j in range(0,len(key_file_2)):\n",
    "        vars()[\"df_1\"+key_file[i]+\"_\"+key_file_2[j]] = pd.read_excel(\"https://github.com/aiasci/firms/blob/main/data/income_statement/1digit/size/\"+key_file[i]+\"_IS_\"+key_file_2[j]+\".xlsx?raw=true\")\n",
    "        vars()[\"df_1\"+key_file[i]+\"_\"+key_file_2[j]][\"type\"]= key_file_2[j]\n",
    "for i in range(len(key_file)-1,len(key_file)):\n",
    "    for j in range(1,len(key_file_2)):\n",
    "        vars()[\"df_1\"+key_file[i]+\"_\"+key_file_2[j]] = pd.read_excel(\"https://github.com/aiasci/firms/blob/main/data/income_statement/1digit/size/\"+key_file[i]+\"_IS_\"+key_file_2[j]+\".xlsx?raw=true\")\n",
    "        vars()[\"df_1\"+key_file[i]+\"_\"+key_file_2[j]][\"type\"]= key_file_2[j]"
   ],
   "outputs": [],
   "metadata": {}
  },
  {
   "cell_type": "code",
   "execution_count": 7,
   "source": [
    "\n",
    " # Manipulating Each Sector's DataFrames\n",
    "for i in range(0, len(key_file)-1):\n",
    "    for j in range(0,len(key_file_2)):\n",
    "        vars()[\"df_1\"+key_file[i]+\"_\"+key_file_2[j]].index =np.repeat(vars()[\"df_1\"+key_file[i]+\"_\"+key_file_2[j]].iloc[0,0],len(vars()[\"df_1\"+key_file[i]+\"_\"+key_file_2[j]]))\n",
    "        vars()[\"df_1\"+key_file[i]+\"_\"+key_file_2[j]].loc[:,vars()[\"df_1\"+key_file[i]+\"_\"+key_file_2[j]].columns[0]]=list(np.arange(1, len(vars()[\"df_1\"+key_file[i]+\"_\"+key_file_2[j]].index)+1))\n",
    "        vars()[\"df_1\"+key_file[i]+\"_\"+key_file_2[j]]=vars()[\"df_1\"+key_file[i]+\"_\"+key_file_2[j]].dropna()\n",
    "        vars()[\"df_1\"+key_file[i]+\"_\"+key_file_2[j]].loc[:,vars()[\"df_1\"+key_file[i]+\"_\"+key_file_2[j]].columns[0]]=list(np.arange(1, len(vars()[\"df_1\"+key_file[i]+\"_\"+key_file_2[j]].index)+1))\n",
    "\n",
    "for i in range(len(key_file)-1,len(key_file)):\n",
    "    for j in range(1,len(key_file_2)):\n",
    "        vars()[\"df_1\"+key_file[i]+\"_\"+key_file_2[j]].index =np.repeat(vars()[\"df_1\"+key_file[i]+\"_\"+key_file_2[j]].iloc[0,0],len(vars()[\"df_1\"+key_file[i]+\"_\"+key_file_2[j]]))\n",
    "        vars()[\"df_1\"+key_file[i]+\"_\"+key_file_2[j]].loc[:,vars()[\"df_1\"+key_file[i]+\"_\"+key_file_2[j]].columns[0]]=list(np.arange(1, len(vars()[\"df_1\"+key_file[i]+\"_\"+key_file_2[j]].index)+1))\n",
    "        vars()[\"df_1\"+key_file[i]+\"_\"+key_file_2[j]]=vars()[\"df_1\"+key_file[i]+\"_\"+key_file_2[j]].dropna()\n",
    "        vars()[\"df_1\"+key_file[i]+\"_\"+key_file_2[j]].loc[:,vars()[\"df_1\"+key_file[i]+\"_\"+key_file_2[j]].columns[0]]=list(np.arange(1, len(vars()[\"df_1\"+key_file[i]+\"_\"+key_file_2[j]].index)+1))\n"
   ],
   "outputs": [],
   "metadata": {}
  },
  {
   "cell_type": "code",
   "execution_count": null,
   "source": [],
   "outputs": [],
   "metadata": {}
  },
  {
   "cell_type": "code",
   "execution_count": 14,
   "source": [
    "\n",
    "for i in range(0,len(key_file)-1):\n",
    "    for j in range(0,len(key_file_2)):\n",
    "        vars()[\"df_\"+key_file[i]+\"_\"+key_file_2[j]]= vars()[\"df_\"+key_file[i]+\"_\"+key_file_2[j]].append(pd.DataFrame(data=vars()[\"df_1\"+key_file[i]+\"_\"+key_file_2[j]]),ignore_index=False)\n",
    "        \n"
   ],
   "outputs": [],
   "metadata": {}
  },
  {
   "cell_type": "code",
   "execution_count": 15,
   "source": [
    "\n",
    " # Merging all DataFrames\n",
    "for i in range(len(key_file)-1,len(key_file)):\n",
    "    for j in range(1,len(key_file_2)):\n",
    "        vars()[\"df_\"+key_file[i]+\"_\"+key_file_2[j]]= vars()[\"df_\"+key_file[i]+\"_\"+key_file_2[j]].append(pd.DataFrame(data=vars()[\"df_1\"+key_file[i]+\"_\"+key_file_2[j]]),ignore_index=False)\n"
   ],
   "outputs": [],
   "metadata": {}
  },
  {
   "cell_type": "code",
   "execution_count": 17,
   "source": [
    "for i in range(0,len(key_file)-1):\n",
    "    for j in range(0,len(key_file_2)):\n",
    "        vars()[\"df_\"+key_file[i]+\"_\"+key_file_2[j]].loc[:,vars()[\"df_\"+key_file[i]+\"_\"+key_file_2[j]].columns[0]]=list(np.arange(1, len(vars()[\"df_\"+key_file[i]+\"_\"+key_file_2[j]].index)+1))   \n",
    "\n",
    "for i in range(len(key_file)-1,len(key_file)):\n",
    "    for j in range(1,len(key_file_2)):\n",
    "        vars()[\"df_\"+key_file[i]+\"_\"+key_file_2[j]].loc[:,vars()[\"df_\"+key_file[i]+\"_\"+key_file_2[j]].columns[0]]=list(np.arange(1, len(vars()[\"df_\"+key_file[i]+\"_\"+key_file_2[j]].index)+1))  "
   ],
   "outputs": [],
   "metadata": {}
  },
  {
   "cell_type": "code",
   "execution_count": 23,
   "source": [
    "datum = pd.DataFrame()\n",
    "for i in range(0,len(key_file)-1):\n",
    "    for j in range(0,len(key_file_2)):\n",
    "        datum = datum.append(pd.DataFrame(data=vars()[\"df_\"+key_file[i]+\"_\"+key_file_2[j]]),ignore_index=False)\n",
    "for i in range(len(key_file)-1,len(key_file)):\n",
    "    for j in range(1,len(key_file_2)):\n",
    "        datum = datum.append(pd.DataFrame(data=vars()[\"df_\"+key_file[i]+\"_\"+key_file_2[j]]),ignore_index=False)"
   ],
   "outputs": [],
   "metadata": {}
  },
  {
   "cell_type": "code",
   "execution_count": 24,
   "source": [
    "datum.index=list(datum.index+\" \"+datum[\"type\"])"
   ],
   "outputs": [],
   "metadata": {}
  },
  {
   "cell_type": "code",
   "execution_count": 25,
   "source": [
    "datum.columns = [\"n\",\"code\",2009,2010,2011,2012,2013,2014,2015,2016,2017,2018,2019,\"type\"]\n"
   ],
   "outputs": [],
   "metadata": {}
  },
  {
   "cell_type": "code",
   "execution_count": 26,
   "source": [
    " # Saving it as excel\n",
    "datum.to_excel(\"df_1_digit.xlsx\", sheet_name = \"Sheet1\")"
   ],
   "outputs": [],
   "metadata": {}
  }
 ],
 "metadata": {
  "orig_nbformat": 4,
  "language_info": {
   "name": "python",
   "version": "3.9.6",
   "mimetype": "text/x-python",
   "codemirror_mode": {
    "name": "ipython",
    "version": 3
   },
   "pygments_lexer": "ipython3",
   "nbconvert_exporter": "python",
   "file_extension": ".py"
  },
  "kernelspec": {
   "name": "python3",
   "display_name": "Python 3.9.6 64-bit"
  },
  "interpreter": {
   "hash": "e7370f93d1d0cde622a1f8e1c04877d8463912d04d973331ad4851f04de6915a"
  }
 },
 "nbformat": 4,
 "nbformat_minor": 2
}