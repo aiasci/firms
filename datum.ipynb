{
 "cells": [
  {
   "cell_type": "code",
   "execution_count": 10,
   "source": [
    "# Required libraries\n",
    "import numpy as np\n",
    "import pandas as pd\n",
    "import string as st"
   ],
   "outputs": [],
   "metadata": {}
  },
  {
   "cell_type": "code",
   "execution_count": 11,
   "source": [
    "# Main DataFrame for manipulatiion\n",
    "datum = pd.read_excel(\"/home/ismetovic/Documents/GitHub/firms/df.xlsx\")\n",
    "datum.index = list(datum.iloc[:,0])\n",
    "datum = datum.iloc[291:]\n"
   ],
   "outputs": [
    {
     "output_type": "execute_result",
     "data": {
      "text/plain": [
       "15"
      ]
     },
     "metadata": {},
     "execution_count": 11
    }
   ],
   "metadata": {}
  },
  {
   "cell_type": "code",
   "execution_count": 12,
   "source": [
    "#Defining key for selected columns\n",
    "key_column =  list(range(3,len(datum.columns)))\n",
    "#Defining key for selected variables\n",
    "x1 = 257\n",
    "x2 = 246\n",
    "#Defining key for selected rows\n",
    "key_row = list(range(0,len(datum.loc[datum[\"n\"]==x1])))\n",
    "key_row_2 = list(range(0,len(datum.loc[datum[\"n\"]==x2])))\n",
    "# DataFrame division for finding the indicator\n",
    "op=datum.loc[datum[\"n\"]==x1].iloc[key_row,key_column].div(datum.loc[datum[\"n\"]==x2].iloc[key_row_2,key_column])*100\n",
    "# Naming the indicator\n",
    "op[\"code\"]=\"Operational Profit to Net Sales\"\n"
   ],
   "outputs": [],
   "metadata": {}
  },
  {
   "cell_type": "code",
   "execution_count": 13,
   "source": [
    "\n",
    "key_column =  list(range(3,len(datum.columns)))\n",
    "x1 = 258\n",
    "x3 = 269\n",
    "x2 = 246\n",
    "key_row = list(range(0,len(datum.loc[datum[\"n\"]==x1])))\n",
    "key_row_2 = list(range(0,len(datum.loc[datum[\"n\"]==x2])))\n",
    "key_row_3 = list(range(0,len(datum.loc[datum[\"n\"]==x3])))\n",
    "nop=(datum.loc[datum[\"n\"]==x1].iloc[key_row,key_column]-datum.loc[datum[\"n\"]==x3].iloc[key_row_3,key_column]).div(datum.loc[datum[\"n\"]==x2].iloc[key_row_2,key_column])*100\n",
    "\n",
    "nop[\"code\"]=\"Net Income From Other Operations to Net Sales\""
   ],
   "outputs": [],
   "metadata": {}
  },
  {
   "cell_type": "code",
   "execution_count": 14,
   "source": [
    "key_column =  list(range(3,len(datum.columns)))\n",
    "x1 = 281\n",
    "x3 = 284\n",
    "x2 = 246\n",
    "key_row = list(range(0,len(datum.loc[datum[\"n\"]==x1])))\n",
    "key_row_2 = list(range(0,len(datum.loc[datum[\"n\"]==x2])))\n",
    "key_row_3 = list(range(0,len(datum.loc[datum[\"n\"]==x3])))\n",
    "nep=(datum.loc[datum[\"n\"]==x1].iloc[key_row,key_column]-datum.loc[datum[\"n\"]==x3].iloc[key_row_3,key_column]).div(datum.loc[datum[\"n\"]==x2].iloc[key_row_2,key_column])*100\n",
    "\n",
    "nep[\"code\"] =\"Net Extraordinary Income to Net Sales\""
   ],
   "outputs": [],
   "metadata": {}
  },
  {
   "cell_type": "code",
   "execution_count": 15,
   "source": [
    "key_column =  list(range(3,len(datum.columns)))\n",
    "x1 = 277\n",
    "x2 = 288\n",
    "key_row = list(range(0,len(datum.loc[datum[\"n\"]==x1])))\n",
    "key_row_2 = list(range(0,len(datum.loc[datum[\"n\"]==x2])))\n",
    "ebit=datum.loc[datum[\"n\"]==x1].iloc[key_row,key_column].div(datum.loc[datum[\"n\"]==x2].iloc[key_row_2,key_column]+datum.loc[datum[\"n\"]==x1].iloc[key_row,key_column])*100\n",
    "ebit[\"code\"] =\"Financial Expenses to EBIT\""
   ],
   "outputs": [],
   "metadata": {}
  },
  {
   "cell_type": "code",
   "execution_count": 16,
   "source": [
    "key_column =  list(range(3,len(datum.columns)))\n",
    "x1 = 288\n",
    "x2 = 246\n",
    "key_row = list(range(0,len(datum.loc[datum[\"n\"]==x1])))\n",
    "key_row_2 = list(range(0,len(datum.loc[datum[\"n\"]==x2])))\n",
    "p=datum.loc[datum[\"n\"]==x1].iloc[key_row,key_column].div(datum.loc[datum[\"n\"]==x2].iloc[key_row_2,key_column])*100\n",
    "p[\"code\"] = \"Profit to Net Sales\""
   ],
   "outputs": [],
   "metadata": {}
  },
  {
   "cell_type": "code",
   "execution_count": 17,
   "source": [
    "key_column =  list(range(3,len(datum.columns)))\n",
    "x1 = 290\n",
    "x2 = 246\n",
    "key_row = list(range(0,len(datum.loc[datum[\"n\"]==x1])))\n",
    "key_row_2 = list(range(0,len(datum.loc[datum[\"n\"]==x2])))\n",
    "nnp=datum.loc[datum[\"n\"]==x1].iloc[key_row,key_column].div(datum.loc[datum[\"n\"]==x2].iloc[key_row_2,key_column])*100\n",
    "nnp[\"code\"] = \"Net Profit to Net Sales\""
   ],
   "outputs": [],
   "metadata": {}
  },
  {
   "cell_type": "code",
   "execution_count": 18,
   "source": [
    "key_column =  list(range(3,len(datum.columns)))\n",
    "x1 = 2\n",
    "x3= 33\n",
    "x4= 45\n",
    "x5= 48\n",
    "x2 = 126\n",
    "key_row = list(range(0,len(datum.loc[datum[\"n\"]==x1])))\n",
    "key_row_2 = list(range(0,len(datum.loc[datum[\"n\"]==x2])))\n",
    "key_row_3 = list(range(0,len(datum.loc[datum[\"n\"]==x3])))\n",
    "key_row_4 = list(range(0,len(datum.loc[datum[\"n\"]==x4])))\n",
    "key_row_5 = list(range(0,len(datum.loc[datum[\"n\"]==x5])))\n",
    "acid=(datum.loc[datum[\"n\"]==x1].iloc[key_row,key_column]-datum.loc[datum[\"n\"]==x3].iloc[key_row_3,key_column]-datum.loc[datum[\"n\"]==x4].iloc[key_row_4,key_column]-datum.loc[datum[\"n\"]==x5].iloc[key_row_5,key_column]).div(datum.loc[datum[\"n\"]==x2].iloc[key_row_2,key_column])*100\n",
    "acid[\"code\"] = \"Acid Test Ratio\""
   ],
   "outputs": [],
   "metadata": {}
  },
  {
   "cell_type": "code",
   "execution_count": 19,
   "source": [
    "key_column =  list(range(3,len(datum.columns)))\n",
    "x1 = 126\n",
    "x2 = 2\n",
    "key_row = list(range(0,len(datum.loc[datum[\"n\"]==x1])))\n",
    "key_row_2 = list(range(0,len(datum.loc[datum[\"n\"]==x2])))\n",
    "cur=datum.loc[datum[\"n\"]==x1].iloc[key_row,key_column].div(datum.loc[datum[\"n\"]==x2].iloc[key_row_2,key_column])*100\n",
    "\n",
    "cur[\"code\"] = \"Short-Term Liabilities to Current Assets\""
   ],
   "outputs": [],
   "metadata": {}
  },
  {
   "cell_type": "code",
   "execution_count": 20,
   "source": [
    "key_column =  list(range(3,len(datum.columns)))\n",
    "x1 = 177\n",
    "x2 = 236\n",
    "key_row = list(range(0,len(datum.loc[datum[\"n\"]==x1])))\n",
    "key_row_2 = list(range(0,len(datum.loc[datum[\"n\"]==x2])))\n",
    "ltfl=datum.loc[datum[\"n\"]==x1].iloc[key_row,key_column].div(datum.loc[datum[\"n\"]==x2].iloc[key_row_2,key_column])*100\n",
    "ltfl[\"code\"] = \"Long-Term Financial Liabilities to Total Liabilities\""
   ],
   "outputs": [],
   "metadata": {}
  },
  {
   "cell_type": "code",
   "execution_count": 21,
   "source": [
    "key_column =  list(range(3,len(datum.columns)))\n",
    "x1 = 185\n",
    "x3 = 191\n",
    "x2 = 236\n",
    "key_row = list(range(0,len(datum.loc[datum[\"n\"]==x1])))\n",
    "key_row_2 = list(range(0,len(datum.loc[datum[\"n\"]==x2])))\n",
    "key_row_3 = list(range(0,len(datum.loc[datum[\"n\"]==x3])))\n",
    "ltol=(datum.loc[datum[\"n\"]==x1].iloc[key_row,key_column]+datum.loc[datum[\"n\"]==x3].iloc[key_row_3,key_column]).div(datum.loc[datum[\"n\"]==x2].iloc[key_row_2,key_column])*100\n",
    "ltol[\"code\"] = \"Long-Term Trade and Other Liabilities to Total Liabilities\""
   ],
   "outputs": [],
   "metadata": {}
  },
  {
   "cell_type": "code",
   "execution_count": 22,
   "source": [
    "key_column =  list(range(3,len(datum.columns)))\n",
    "x1 = 176\n",
    "x2 = 236\n",
    "key_row = list(range(0,len(datum.loc[datum[\"n\"]==x1])))\n",
    "key_row_2 = list(range(0,len(datum.loc[datum[\"n\"]==x2])))\n",
    "ltl=datum.loc[datum[\"n\"]==x1].iloc[key_row,key_column].div(datum.loc[datum[\"n\"]==x2].iloc[key_row_2,key_column])*100\n",
    "ltl[\"code\"] = \"Long-Term Liabilities to Total Liabilities\""
   ],
   "outputs": [],
   "metadata": {}
  },
  {
   "cell_type": "code",
   "execution_count": 23,
   "source": [
    "key_column =  list(range(3,len(datum.columns)))\n",
    "x1 = 127\n",
    "x2 = 236\n",
    "key_row = list(range(0,len(datum.loc[datum[\"n\"]==x1])))\n",
    "key_row_2 = list(range(0,len(datum.loc[datum[\"n\"]==x2])))\n",
    "stfl=datum.loc[datum[\"n\"]==x1].iloc[key_row,key_column].div(datum.loc[datum[\"n\"]==x2].iloc[key_row_2,key_column])*100\n",
    "stfl[\"code\"] = \"Short-Term Financial Liabilities to Total Liabilities\""
   ],
   "outputs": [],
   "metadata": {}
  },
  {
   "cell_type": "code",
   "execution_count": 24,
   "source": [
    "key_column =  list(range(3,len(datum.columns)))\n",
    "x1 = 137\n",
    "x3 = 143\n",
    "x2 = 236\n",
    "key_row = list(range(0,len(datum.loc[datum[\"n\"]==x1])))\n",
    "key_row_2 = list(range(0,len(datum.loc[datum[\"n\"]==x2])))\n",
    "key_row_3 = list(range(0,len(datum.loc[datum[\"n\"]==x3])))\n",
    "stol=(datum.loc[datum[\"n\"]==x1].iloc[key_row,key_column]+datum.loc[datum[\"n\"]==x3].iloc[key_row_3,key_column]).div(datum.loc[datum[\"n\"]==x2].iloc[key_row_2,key_column])*100\n",
    "stol[\"code\"] = \"Short-Term Trade and Other Liabilities to Total Liabilities\""
   ],
   "outputs": [],
   "metadata": {}
  },
  {
   "cell_type": "code",
   "execution_count": 25,
   "source": [
    "key_column =  list(range(3,len(datum.columns)))\n",
    "x1 = 126\n",
    "x2 = 236\n",
    "key_row = list(range(0,len(datum.loc[datum[\"n\"]==x1])))\n",
    "key_row_2 = list(range(0,len(datum.loc[datum[\"n\"]==x2])))\n",
    "stl=datum.loc[datum[\"n\"]==x1].iloc[key_row,key_column].div(datum.loc[datum[\"n\"]==x2].iloc[key_row_2,key_column])*100\n",
    "stl[\"code\"] = \"Short-Term Liabilities to Total Liabilities\""
   ],
   "outputs": [],
   "metadata": {}
  },
  {
   "cell_type": "code",
   "execution_count": 26,
   "source": [
    "tfl =ltfl+stfl\n",
    "tfl[\"code\"] = \"Total Financial Liabilities to Total Liabilities\""
   ],
   "outputs": [],
   "metadata": {}
  },
  {
   "cell_type": "code",
   "execution_count": 27,
   "source": [
    "tol = stol+ltol\n",
    "tol[\"code\"] = \"Total Trade and Other Liabilities to Total Liabilities\""
   ],
   "outputs": [],
   "metadata": {}
  },
  {
   "cell_type": "code",
   "execution_count": 28,
   "source": [
    "tl=tfl+tol\n",
    "tl[\"code\"] = \"Liabilities to Total Liabilities\"\n"
   ],
   "outputs": [],
   "metadata": {}
  },
  {
   "cell_type": "code",
   "execution_count": 29,
   "source": [
    "key_column =  list(range(3,len(datum.columns)))\n",
    "x1 = 211\n",
    "x2 = 236\n",
    "key_row = list(range(0,len(datum.loc[datum[\"n\"]==x1])))\n",
    "key_row_2 = list(range(0,len(datum.loc[datum[\"n\"]==x2])))\n",
    "equ=datum.loc[datum[\"n\"]==x1].iloc[key_row,key_column].div(datum.loc[datum[\"n\"]==x2].iloc[key_row_2,key_column])*100\n",
    "\n",
    "equ[\"code\"] = \"Shareholders Equity to Total Liabilities\""
   ],
   "outputs": [],
   "metadata": {}
  },
  {
   "cell_type": "code",
   "execution_count": 30,
   "source": [
    "key_column =  list(range(3,len(datum.columns)))\n",
    "x1 = 277\n",
    "x3 = 93\n",
    "x4 = 124\n",
    "x2 = 288\n",
    "key_row = list(range(0,len(datum.loc[datum[\"n\"]==x1])))\n",
    "key_row_2 = list(range(0,len(datum.loc[datum[\"n\"]==x2])))\n",
    "key_row_3 = list(range(0,len(datum.loc[datum[\"n\"]==x3])))\n",
    "key_row_4 = list(range(0,len(datum.loc[datum[\"n\"]==x4])))\n",
    "ebitda=(datum.loc[datum[\"n\"]==x1].iloc[key_row,key_column]+datum.loc[datum[\"n\"]==x2].iloc[key_row,key_column]+datum.loc[datum[\"n\"]==x3].iloc[key_row,key_column]).div(datum.loc[datum[\"n\"]==x4].iloc[key_row_2,key_column])*100\n",
    "ebitda[\"code\"] =\"EBITDA to Total Assets\""
   ],
   "outputs": [],
   "metadata": {}
  },
  {
   "cell_type": "code",
   "execution_count": 31,
   "source": [
    "key_column =  list(range(3,len(datum.columns)))\n",
    "x1 = 277\n",
    "x3 = 93\n",
    "x4 = 124\n",
    "x5 = 211\n",
    "x2 = 288\n",
    "key_row = list(range(0,len(datum.loc[datum[\"n\"]==x1])))\n",
    "key_row_2 = list(range(0,len(datum.loc[datum[\"n\"]==x2])))\n",
    "key_row_3 = list(range(0,len(datum.loc[datum[\"n\"]==x3])))\n",
    "key_row_4 = list(range(0,len(datum.loc[datum[\"n\"]==x4])))\n",
    "ebitdad=(datum.loc[datum[\"n\"]==x4].iloc[key_row,key_column]-datum.loc[datum[\"n\"]==x5].iloc[key_row,key_column]).div(datum.loc[datum[\"n\"]==x1].iloc[key_row,key_column]+datum.loc[datum[\"n\"]==x2].iloc[key_row,key_column]+datum.loc[datum[\"n\"]==x3].iloc[key_row,key_column])*100\n",
    "ebitdad[\"code\"] =\"Total Debt to EBITDA\""
   ],
   "outputs": [],
   "metadata": {}
  },
  {
   "cell_type": "code",
   "execution_count": 32,
   "source": [
    "# Key for appending\n",
    "key_appender = [\"op\",\"nop\",\"nep\",\"ebit\",\"p\",\"nnp\",\"acid\",\"cur\",\"ltfl\",\"ltol\",\"ltl\",\"stfl\",\"stol\",\"stl\",\"tfl\",\"tol\",\"tl\",\"equ\",\"ebitda\",\"ebitdad\"]\n",
    "# Empty DataFrame\n",
    "datum1 = pd.DataFrame()\n",
    "# Merging all DataFrames\n",
    "for i in range(0, len(key_appender)):\n",
    "    datum1= datum1.append(pd.DataFrame(data=vars()[key_appender[i]]),ignore_index=False)"
   ],
   "outputs": [],
   "metadata": {}
  },
  {
   "cell_type": "code",
   "execution_count": 33,
   "source": [
    "# Adding Sizes\n",
    "datum1[\"type\"] = \"Total\""
   ],
   "outputs": [],
   "metadata": {}
  },
  {
   "cell_type": "code",
   "execution_count": 34,
   "source": [
    "# Changing index\n",
    "a=pd.DataFrame(datum1.index)\n",
    "for i in range(0,len(a.index)):\n",
    "    a.iloc[i,0] = a.iloc[i,0][0]\n",
    "datum1.index = a.loc[:,0]"
   ],
   "outputs": [],
   "metadata": {}
  },
  {
   "cell_type": "code",
   "execution_count": 35,
   "source": [
    "# Saving it as excel\n",
    "datum1.to_excel(\"/datum.xlsx\", sheet_name = \"Sheet1\")"
   ],
   "outputs": [],
   "metadata": {}
  }
 ],
 "metadata": {
  "orig_nbformat": 4,
  "language_info": {
   "name": "python",
   "version": "3.9.7",
   "mimetype": "text/x-python",
   "codemirror_mode": {
    "name": "ipython",
    "version": 3
   },
   "pygments_lexer": "ipython3",
   "nbconvert_exporter": "python",
   "file_extension": ".py"
  },
  "kernelspec": {
   "name": "python3",
   "display_name": "Python 3.9.7 64-bit"
  },
  "interpreter": {
   "hash": "e7370f93d1d0cde622a1f8e1c04877d8463912d04d973331ad4851f04de6915a"
  }
 },
 "nbformat": 4,
 "nbformat_minor": 2
}