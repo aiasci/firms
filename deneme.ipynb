{
 "cells": [
  {
   "cell_type": "code",
   "execution_count": 96,
   "metadata": {},
   "outputs": [],
   "source": [
    "import pandas as pd\n",
    "import numpy as np\n",
    "import string as st\n",
    "import sys "
   ]
  },
  {
   "cell_type": "code",
   "execution_count": 97,
   "metadata": {},
   "outputs": [],
   "source": [
    "## Balance Sheet\n",
    "bs_all = pd.read_excel('data/all/ALL_BS_TOTAL.xlsx')\n",
    "bs_all = bs_all.iloc[2:,1:].reset_index(drop=True)\n",
    "bs_all.columns = ['ALL'] + list(bs_all.iloc[0])[1:]\n",
    "bs_all = bs_all.iloc[1:].reset_index(drop=True)\n",
    "## Income Statement\n",
    "is_all = pd.read_excel('data/all/ALL_IS_TOTAL.xlsx')\n",
    "is_all = is_all.iloc[2:,1:].reset_index(drop=True)\n",
    "is_all.columns = ['ALL'] + list(is_all.iloc[0])[1:]\n",
    "is_all = is_all.iloc[1:].reset_index(drop=True)\n",
    "## Dataframe\n",
    "df_all = pd.concat([bs_all,is_all])\n",
    "df_all = df_all.dropna().reset_index(drop=True)\n",
    "df_all = df_all.reset_index()\n",
    "df_all.columns = ['n'] + list(df_all.columns)[1:]\n",
    "array = [ list(np.repeat('ALL',len(df_all))) , list(np.repeat('TOTAL',len(df_all)))]\n",
    "tuples = list(zip(*array))\n",
    "index = pd.MultiIndex.from_tuples(tuples, names=[\"Sector\", \"Size\"])\n",
    "df_all.index = index\n",
    "df_all.columns = ['n','indicator']+list(df_all.columns)[2:]\n",
    "datum_all = pd.DataFrame()\n",
    "datum_all = pd.concat([datum_all,df_all])\n",
    "### FX Risk\n",
    "risk_all = pd.DataFrame()\n",
    "key_page = ['2009-2014','2015-2021']\n",
    "for page in key_page:\n",
    "    df_risk = pd.read_excel('data/all/ALL_RISK_TOTAL.xlsx', sheet_name = page)\n",
    "    df_risk = df_risk.iloc[7:,1:].reset_index(drop=True)\n",
    "    array = [  list(df_risk.iloc[1]),list(df_risk.iloc[0].ffill())]\n",
    "    tuples = list(zip(*array))\n",
    "    index = pd.MultiIndex.from_tuples(tuples)\n",
    "    df_risk.columns = index\n",
    "    df_risk.index = list(df_risk.iloc[0:,0])\n",
    "    df_risk = df_risk.loc['-FX']\n",
    "    df_risk = df_risk.iloc[0:,2:]\n",
    "    df_risk_1 = pd.DataFrame()\n",
    "    for xx in list(df_risk.columns):\n",
    "        c =  pd.DataFrame({\n",
    "            'term' : xx[0].strip(),\n",
    "            'year' : xx[1],\n",
    "            'amount' : df_risk[xx].sum()\n",
    "        }, index=[1])\n",
    "        df_risk_1 = pd.concat([df_risk_1,c])\n",
    "    risk_all = pd.concat([risk_all,df_risk_1])\n",
    "risk_all = risk_all.pivot(index='term', columns = 'year')['amount'].reset_index()\n",
    "array = [ list(np.repeat('ALL',len(risk_all))) , list(np.repeat('TOTAL',len(risk_all)))]\n",
    "tuples = list(zip(*array))\n",
    "index = pd.MultiIndex.from_tuples(tuples, names=[\"Sector\", \"Size\"])\n",
    "risk_all.index = index\n",
    "datum_risk = pd.DataFrame()\n",
    "datum_risk = pd.concat([datum_risk,risk_all])"
   ]
  },
  {
   "cell_type": "code",
   "execution_count": 98,
   "metadata": {},
   "outputs": [],
   "source": [
    "# Creating a key for loops\n",
    "key_sektor = st.ascii_uppercase\n",
    "key_sektor = key_sektor[0:10]+key_sektor[11:14]+key_sektor[15:19]"
   ]
  },
  {
   "cell_type": "code",
   "execution_count": 99,
   "metadata": {},
   "outputs": [],
   "source": [
    "for sektor in key_sektor:\n",
    "    ## Balance Sheet\n",
    "    bs_all = pd.read_excel(f'data/balance_sheet/1digit/total/{sektor}_BS_TOTAL.xlsx')\n",
    "    key = bs_all.iloc[0,0]\n",
    "    bs_all = bs_all.iloc[2:,1:].reset_index(drop=True)\n",
    "    bs_all.columns = [key] + list(bs_all.iloc[0])[1:]\n",
    "    bs_all = bs_all.iloc[1:].reset_index(drop=True)\n",
    "    ## Income Statement\n",
    "    is_all = pd.read_excel(f'data/income_statement/1digit/total/{sektor}_IS_TOTAL.xlsx')\n",
    "    is_all = is_all.iloc[2:,1:].reset_index(drop=True)\n",
    "    is_all.columns = [key] + list(is_all.iloc[0])[1:]\n",
    "    is_all = is_all.iloc[1:].reset_index(drop=True)\n",
    "    ## Dataframe\n",
    "    df_all = pd.concat([bs_all,is_all])\n",
    "    df_all = df_all.dropna().reset_index(drop=True)\n",
    "    df_all = df_all.reset_index()\n",
    "    df_all.columns = ['n'] + list(df_all.columns)[1:]\n",
    "    array = [ list(np.repeat(key,len(df_all))) , list(np.repeat('TOTAL',len(df_all)))]\n",
    "    tuples = list(zip(*array))\n",
    "    index = pd.MultiIndex.from_tuples(tuples, names=[\"Sector\", \"Size\"])\n",
    "    df_all.index = index\n",
    "    df_all.columns = ['n','indicator']+list(df_all.columns)[2:]\n",
    "    datum_all = pd.concat([datum_all, df_all])"
   ]
  },
  {
   "cell_type": "code",
   "execution_count": 100,
   "metadata": {},
   "outputs": [],
   "source": [
    "key_size = ['LARGE','MEDIUM','SMALL','MICRO']"
   ]
  },
  {
   "cell_type": "code",
   "execution_count": 101,
   "metadata": {},
   "outputs": [],
   "source": [
    "for sektor in key_sektor:\n",
    "    for size in key_size:\n",
    "        ## Balance Sheet\n",
    "        bs_all = pd.read_excel(f'data/balance_sheet/1digit/size/{sektor}_BS_{size}.xlsx')\n",
    "        key = bs_all.iloc[0,0]\n",
    "        bs_all = bs_all.iloc[2:,1:].reset_index(drop=True)\n",
    "        bs_all.columns = [key] + list(bs_all.iloc[0])[1:]\n",
    "        bs_all = bs_all.iloc[1:].reset_index(drop=True)\n",
    "        ## Income Statement\n",
    "        is_all = pd.read_excel(f'data/income_statement/1digit/size/{sektor}_IS_{size}.xlsx')\n",
    "        is_all = is_all.iloc[2:,1:].reset_index(drop=True)\n",
    "        is_all.columns = [key] + list(is_all.iloc[0])[1:]\n",
    "        is_all = is_all.iloc[1:].reset_index(drop=True)\n",
    "        ## Dataframe\n",
    "        df_all = pd.concat([bs_all,is_all])\n",
    "        df_all = df_all.dropna().reset_index(drop=True)\n",
    "        df_all = df_all.reset_index()\n",
    "        df_all.columns = ['n'] + list(df_all.columns)[1:]\n",
    "        array = [ list(np.repeat(key,len(df_all))) , list(np.repeat(size,len(df_all)))]\n",
    "        tuples = list(zip(*array))\n",
    "        index = pd.MultiIndex.from_tuples(tuples, names=[\"Sector\", \"Size\"])\n",
    "        df_all.index = index\n",
    "        df_all.columns = ['n','indicator']+list(df_all.columns)[2:]\n",
    "        datum_all = pd.concat([datum_all, df_all])"
   ]
  },
  {
   "cell_type": "code",
   "execution_count": 102,
   "metadata": {},
   "outputs": [],
   "source": [
    "for size in key_size:\n",
    "    df = datum_all.swaplevel().loc[size].groupby(['n','indicator']).sum().reset_index()\n",
    "    array = [ list(np.repeat('ALL',len(df))) , list(np.repeat(size,len(df)))]\n",
    "    tuples = list(zip(*array))\n",
    "    index = pd.MultiIndex.from_tuples(tuples, names=[\"Sector\", \"Size\"])\n",
    "    df.index = index\n",
    "    datum_all = pd.concat([datum_all, df])"
   ]
  },
  {
   "cell_type": "code",
   "execution_count": 103,
   "metadata": {},
   "outputs": [],
   "source": [
    "datum_all.to_excel('data.xlsx')"
   ]
  },
  {
   "cell_type": "code",
   "execution_count": 104,
   "metadata": {},
   "outputs": [],
   "source": [
    "datum_risk.to_excel('risk.xlsx')"
   ]
  }
 ],
 "metadata": {
  "kernelspec": {
   "display_name": "Python 3.9.7 64-bit ('Python39')",
   "language": "python",
   "name": "python3"
  },
  "language_info": {
   "codemirror_mode": {
    "name": "ipython",
    "version": 3
   },
   "file_extension": ".py",
   "mimetype": "text/x-python",
   "name": "python",
   "nbconvert_exporter": "python",
   "pygments_lexer": "ipython3",
   "version": "3.9.7"
  },
  "orig_nbformat": 4,
  "vscode": {
   "interpreter": {
    "hash": "cf92aa13fedf815d5c8dd192b8d835913fde3e8bc926b2a0ad6cc74ef2ba3ca2"
   }
  }
 },
 "nbformat": 4,
 "nbformat_minor": 2
}
