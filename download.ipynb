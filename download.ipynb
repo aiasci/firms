{
 "cells": [
  {
   "cell_type": "code",
   "execution_count": 1,
   "source": [
    "import urllib.request\n",
    "import os"
   ],
   "outputs": [],
   "metadata": {}
  },
  {
   "cell_type": "code",
   "execution_count": 7,
   "source": [
    "def download_url(url, save_path):\n",
    "    with urllib.request.urlopen(url) as dl_file:\n",
    "        with open(save_path, 'wb') as out_file:\n",
    "            out_file.write(dl_file.read())\n",
    "save_path = \"/home/ismetovic/Documents/GitHub/firms/file1.zip\""
   ],
   "outputs": [],
   "metadata": {}
  },
  {
   "cell_type": "code",
   "execution_count": 9,
   "source": [
    "download_url(\"https://www.tcmb.gov.tr/wps/wcm/connect/dc400678-145b-45c5-bbc1-cdad44e4e919/file1.zip?MOD=AJPERES&CACHEID=ROOTWORKSPACE-dc400678-145b-45c5-bbc1-cdad44e4e919-nkct4OA\",save_path)"
   ],
   "outputs": [],
   "metadata": {}
  },
  {
   "cell_type": "code",
   "execution_count": 10,
   "source": [
    "import zipfile\n",
    "with zipfile.ZipFile(save_path, 'r') as zip_ref:\n",
    "    zip_ref.extractall(\"/home/ismetovic/Documents/GitHub/firms/data\")"
   ],
   "outputs": [],
   "metadata": {}
  },
  {
   "cell_type": "code",
   "execution_count": 11,
   "source": [
    "os.remove(\"/home/ismetovic/Documents/GitHub/firms/file1.zip\")"
   ],
   "outputs": [],
   "metadata": {}
  }
 ],
 "metadata": {
  "orig_nbformat": 4,
  "language_info": {
   "name": "python",
   "version": "3.9.6",
   "mimetype": "text/x-python",
   "codemirror_mode": {
    "name": "ipython",
    "version": 3
   },
   "pygments_lexer": "ipython3",
   "nbconvert_exporter": "python",
   "file_extension": ".py"
  },
  "kernelspec": {
   "name": "python3",
   "display_name": "Python 3.9.6 64-bit ('env': venv)"
  },
  "interpreter": {
   "hash": "d7d9332e358948c49e3055cf7927cdad528945c476e62601719fd53cf8e91388"
  }
 },
 "nbformat": 4,
 "nbformat_minor": 2
}