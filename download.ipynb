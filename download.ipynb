{
 "cells": [
  {
   "cell_type": "code",
   "execution_count": 6,
   "source": [
    " # Required libraries\n",
    "import urllib.request\n",
    "import os"
   ],
   "outputs": [],
   "metadata": {}
  },
  {
   "cell_type": "code",
   "execution_count": 7,
   "source": [
    " # Function for downloading\n",
    "def download_url(url, save_path):\n",
    "    with urllib.request.urlopen(url) as dl_file:\n",
    "        with open(save_path, 'wb') as out_file:\n",
    "            out_file.write(dl_file.read())\n",
    " # path (please re-arrange it for your computer !!!)\n",
    "save_path = \"/home/ismetovic/Documents/GitHub/firms/file1.zip\""
   ],
   "outputs": [],
   "metadata": {}
  },
  {
   "cell_type": "code",
   "execution_count": 9,
   "source": [
    " # Downloading the file\n",
    "download_url(\"https://www.tcmb.gov.tr/wps/wcm/connect/dc400678-145b-45c5-bbc1-cdad44e4e919/file1.zip?MOD=AJPERES&CACHEID=ROOTWORKSPACE-dc400678-145b-45c5-bbc1-cdad44e4e919-nkct4OA\",save_path)"
   ],
   "outputs": [],
   "metadata": {}
  },
  {
   "cell_type": "code",
   "execution_count": 10,
   "source": [
    " # Required library and code for unzipping\n",
    "import zipfile\n",
    "with zipfile.ZipFile(save_path, 'r') as zip_ref:\n",
    "    zip_ref.extractall(\"/home/ismetovic/Documents/GitHub/firms/data\")"
   ],
   "outputs": [],
   "metadata": {}
  },
  {
   "cell_type": "code",
   "execution_count": 11,
   "source": [
    " # Removing the zip file\n",
    "os.remove(\"/home/ismetovic/Documents/GitHub/firms/file1.zip\")"
   ],
   "outputs": [],
   "metadata": {}
  }
 ],
 "metadata": {
  "orig_nbformat": 4,
  "language_info": {
   "name": "python",
   "version": "3.9.6",
   "mimetype": "text/x-python",
   "codemirror_mode": {
    "name": "ipython",
    "version": 3
   },
   "pygments_lexer": "ipython3",
   "nbconvert_exporter": "python",
   "file_extension": ".py"
  },
  "kernelspec": {
   "name": "python3",
   "display_name": "Python 3.9.6 64-bit"
  },
  "interpreter": {
   "hash": "e7370f93d1d0cde622a1f8e1c04877d8463912d04d973331ad4851f04de6915a"
  }
 },
 "nbformat": 4,
 "nbformat_minor": 2
}