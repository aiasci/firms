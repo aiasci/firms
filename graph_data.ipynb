{
 "cells": [
  {
   "cell_type": "code",
   "execution_count": 1,
   "source": [
    "# Required libraries\n",
    "import numpy as np\n",
    "import pandas as pd\n",
    "import string as st"
   ],
   "outputs": [],
   "metadata": {}
  },
  {
   "cell_type": "code",
   "execution_count": null,
   "source": [
    "df= pd.read_excel(\"/home/ismetovic/Documents/GitHub/firms/datum_1_digit.xlsx\")\n",
    "df=df.T\n",
    "df.columns = df.iloc[0,:]\n"
   ],
   "outputs": [],
   "metadata": {}
  },
  {
   "cell_type": "code",
   "execution_count": 18,
   "source": [
    "liste = [\"A\",\"B\",\"C\",\"D\",\"E\",\"F\",\"G\",\"H\",\"I\",\"J\",\"L\",\"M\",\"N\",\"P\",\"Q\",\"R\"]\n",
    "datum_finale = pd.DataFrame()\n",
    "for j in range(0,len(liste)):\n",
    "    vars()[\"df_\"+liste[j]] = df.T.loc[df.T[\"Unnamed: 0\"]== liste[j]]\n",
    "    vars()[\"datum_\"+liste[j]] = pd.DataFrame()\n",
    "    for i in range(0,20):\n",
    "        d = vars()[\"df_\"+liste[j]].loc[vars()[\"df_\"+liste[j]][\"code\"]==vars()[\"df_\"+liste[j]][\"code\"].unique()[i]].T\n",
    "        c = pd.DataFrame()\n",
    "        c = pd.DataFrame({\n",
    "            \"name\" :np.repeat(d.columns[1],len(d.iloc[range(0,len(d.index)-4),1])),\n",
    "            \"code\" :np.repeat(d.iloc[len(d.index)-3,1],len(d.iloc[range(0,len(d.index)-4),1])),\n",
    "            \"Large\" :d.iloc[range(1,len(d.index)-3),0],\n",
    "            \"Medium\":d.iloc[range(1,len(d.index)-3),1],\n",
    "            \"Micro\":d.iloc[range(1,len(d.index)-3),2],\n",
    "            \"Small\":d.iloc[range(1,len(d.index)-3),3],\n",
    "            \"Total\":d.iloc[range(1,len(d.index)-3),4]\n",
    "            })\n",
    "        vars()[\"datum_\"+liste[j]] = vars()[\"datum_\"+liste[j]].append(c, ignore_index=False)\n",
    "    datum_finale = datum_finale.append(vars()[\"datum_\"+liste[j]])\n"
   ],
   "outputs": [],
   "metadata": {}
  },
  {
   "cell_type": "code",
   "execution_count": 19,
   "source": [
    "df_S =df.T.loc[df.T[\"Unnamed: 0\"]== \"S\"]\n",
    "datum_S = pd.DataFrame()\n",
    "for i in range(0,20):\n",
    "    d = df_S.loc[df_S[\"code\"]==df_S[\"code\"].unique()[i]].T\n",
    "    c = pd.DataFrame()\n",
    "    c = pd.DataFrame({\n",
    "        \"name\" :np.repeat(d.columns[1],len(d.iloc[range(0,len(d.index)-4),1])),\n",
    "        \"code\" :np.repeat(d.iloc[len(d.index)-3,1],len(d.iloc[range(0,len(d.index)-4),1])),\n",
    "        \"Medium\" :d.iloc[range(1,len(d.index)-3),0],\n",
    "        \"Micro\":d.iloc[range(1,len(d.index)-3),1],\n",
    "        \"Small\":d.iloc[range(1,len(d.index)-3),2],\n",
    "        \"Total\":d.iloc[range(1,len(d.index)-3),3]\n",
    "        })\n",
    "    datum_S = datum_S.append(c, ignore_index=False)\n",
    "\n"
   ],
   "outputs": [],
   "metadata": {}
  },
  {
   "cell_type": "code",
   "execution_count": null,
   "source": [
    "datum_finale=datum_finale.append(datum_S)\n"
   ],
   "outputs": [],
   "metadata": {}
  },
  {
   "cell_type": "code",
   "execution_count": 6,
   "source": [
    "datum_finale.to_csv(\"/graph_data.csv\")"
   ],
   "outputs": [],
   "metadata": {}
  }
 ],
 "metadata": {
  "orig_nbformat": 4,
  "language_info": {
   "name": "python",
   "version": "3.9.7",
   "mimetype": "text/x-python",
   "codemirror_mode": {
    "name": "ipython",
    "version": 3
   },
   "pygments_lexer": "ipython3",
   "nbconvert_exporter": "python",
   "file_extension": ".py"
  },
  "kernelspec": {
   "name": "python3",
   "display_name": "Python 3.9.7 64-bit"
  },
  "interpreter": {
   "hash": "e7370f93d1d0cde622a1f8e1c04877d8463912d04d973331ad4851f04de6915a"
  }
 },
 "nbformat": 4,
 "nbformat_minor": 2
}