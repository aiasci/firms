{
 "cells": [
  {
   "cell_type": "code",
   "execution_count": 209,
   "source": [
    "# Required libraries\n",
    "import numpy as np\n",
    "import pandas as pd\n",
    "import string as st"
   ],
   "outputs": [],
   "metadata": {}
  },
  {
   "cell_type": "code",
   "execution_count": 210,
   "source": [
    "# Main DataFrame for manipulatiion\n",
    "datum = pd.read_excel(\"/home/ismetovic/Documents/GitHub/firms/df_1_digit.xlsx\")\n",
    "datum.index = list(datum.iloc[:,0])\n"
   ],
   "outputs": [],
   "metadata": {}
  },
  {
   "cell_type": "code",
   "execution_count": 211,
   "source": [
    "#Defining key for selected columns\n",
    "key_column =  list(range(3,14))\n",
    "#Defining key for selected variables\n",
    "x1 = 240\n",
    "x2 = 246\n",
    "#Defining key for selected rows\n",
    "key_row = list(range(0,len(datum.loc[datum[\"n\"]==x1])))\n",
    "key_row_2 = list(range(0,len(datum.loc[datum[\"n\"]==x2])))\n",
    "# DataFrame division for finding the indicator\n",
    "exp=datum.loc[datum[\"n\"]==x1].iloc[key_row,key_column].div(datum.loc[datum[\"n\"]==x2].iloc[key_row_2,key_column])*100\n",
    "# Naming the indicator\n",
    "exp[\"code\"]=\"Exports to Net Sales\"\n"
   ],
   "outputs": [],
   "metadata": {}
  },
  {
   "cell_type": "code",
   "execution_count": 212,
   "source": [
    "#Defining key for selected columns\n",
    "key_column =  list(range(3,14))\n",
    "#Defining key for selected variables\n",
    "x1 = 246\n",
    "#Defining key for selected rows\n",
    "key_row = list(range(0,len(datum.loc[datum[\"n\"]==x1])))\n",
    "# DataFrame division for finding the indicator\n",
    "ns=datum.loc[datum[\"n\"]==x1].iloc[key_row,key_column]\n",
    "# Naming the indicator\n",
    "ns[\"code\"]=\"Net Sales\"\n",
    "\n",
    "\n",
    "gr_ns= pd.DataFrame()\n",
    "for i in list(range(1,11)):\n",
    "      gr_ns[ns.columns[i]]= (ns.iloc[:,i]/ns.iloc[:,i-1]-1)*100"
   ],
   "outputs": [],
   "metadata": {}
  },
  {
   "cell_type": "code",
   "execution_count": 213,
   "source": [
    "#Defining key for selected columns\n",
    "key_column =  list(range(3,14))\n",
    "#Defining key for selected variables\n",
    "x1 = 247\n",
    "#Defining key for selected rows\n",
    "key_row = list(range(0,len(datum.loc[datum[\"n\"]==x1])))\n",
    "# DataFrame division for finding the indicator\n",
    "vc=datum.loc[datum[\"n\"]==x1].iloc[key_row,key_column]\n",
    "# Naming the indicator\n",
    "vc[\"code\"]=\"Cost of Good Sold\"\n",
    "\n",
    "gr_vc= pd.DataFrame()\n",
    "for i in list(range(1,11)):\n",
    "      gr_vc[vc.columns[i]]= (vc.iloc[:,i]/vc.iloc[:,i-1]-1)*100\n"
   ],
   "outputs": [],
   "metadata": {}
  },
  {
   "cell_type": "code",
   "execution_count": 214,
   "source": [
    "gr_gp = gr_ns-gr_vc\n",
    "gr_gp[\"code\"] = \"Diff Gr. NS and Gr. VC\""
   ],
   "outputs": [],
   "metadata": {}
  },
  {
   "cell_type": "code",
   "execution_count": 215,
   "source": [
    "#Defining key for selected columns\n",
    "key_column =  list(range(3,14))\n",
    "#Defining key for selected variables\n",
    "x1 = 257\n",
    "x2 = 246\n",
    "#Defining key for selected rows\n",
    "key_row = list(range(0,len(datum.loc[datum[\"n\"]==x1])))\n",
    "key_row_2 = list(range(0,len(datum.loc[datum[\"n\"]==x2])))\n",
    "# DataFrame division for finding the indicator\n",
    "op=datum.loc[datum[\"n\"]==x1].iloc[key_row,key_column].div(datum.loc[datum[\"n\"]==x2].iloc[key_row_2,key_column])*100\n",
    "# Naming the indicator\n",
    "op[\"code\"]=\"Operational Profit to Net Sales\""
   ],
   "outputs": [],
   "metadata": {}
  },
  {
   "cell_type": "code",
   "execution_count": 216,
   "source": [
    "#Defining key for selected columns\n",
    "key_column =  list(range(3,14))\n",
    "#Defining key for selected variables\n",
    "x1 = 265\n",
    "x2 = 258\n",
    "#Defining key for selected rows\n",
    "key_row = list(range(0,len(datum.loc[datum[\"n\"]==x1])))\n",
    "key_row_2 = list(range(0,len(datum.loc[datum[\"n\"]==x2])))\n",
    "# DataFrame division for finding the indicator\n",
    "fxp=datum.loc[datum[\"n\"]==x1].iloc[key_row,key_column].div(datum.loc[datum[\"n\"]==x2].iloc[key_row_2,key_column])*100\n",
    "# Naming the indicator\n",
    "fxp[\"code\"]=\"Exchange Proportion of Other Profit\"\n"
   ],
   "outputs": [],
   "metadata": {}
  },
  {
   "cell_type": "code",
   "execution_count": 217,
   "source": [
    "#Defining key for selected columns\n",
    "key_column =  list(range(3,14))\n",
    "#Defining key for selected variables\n",
    "x1 = 273\n",
    "x2 = 269\n",
    "#Defining key for selected rows\n",
    "key_row = list(range(0,len(datum.loc[datum[\"n\"]==x1])))\n",
    "key_row_2 = list(range(0,len(datum.loc[datum[\"n\"]==x2])))\n",
    "# DataFrame division for finding the indicator\n",
    "fxl=datum.loc[datum[\"n\"]==x1].iloc[key_row,key_column].div(datum.loc[datum[\"n\"]==x2].iloc[key_row_2,key_column])*100\n",
    "# Naming the indicator\n",
    "fxl[\"code\"]=\"Exchange Proportion of Other Losses\"\n"
   ],
   "outputs": [],
   "metadata": {}
  },
  {
   "cell_type": "code",
   "execution_count": 218,
   "source": [
    "key_column =  list(range(3,14))\n",
    "x1 = 259\n",
    "x3 = 260\n",
    "x2 = 261\n",
    "key_row = list(range(0,len(datum.loc[datum[\"n\"]==x1])))\n",
    "key_row_2 = list(range(0,len(datum.loc[datum[\"n\"]==x2])))\n",
    "key_row_3 = list(range(0,len(datum.loc[datum[\"n\"]==x3])))\n",
    "nop_s=datum.loc[datum[\"n\"]==x1].iloc[key_row,key_column]+datum.loc[datum[\"n\"]==x3].iloc[key_row_3,key_column]+datum.loc[datum[\"n\"]==x2].iloc[key_row_2,key_column]\n",
    "\n",
    "\n"
   ],
   "outputs": [],
   "metadata": {}
  },
  {
   "cell_type": "code",
   "execution_count": 219,
   "source": [
    "key_column =  list(range(3,14))\n",
    "x1 = 258\n",
    "x3 = 269\n",
    "x2 = 246\n",
    "key_row = list(range(0,len(datum.loc[datum[\"n\"]==x1])))\n",
    "key_row_2 = list(range(0,len(datum.loc[datum[\"n\"]==x2])))\n",
    "key_row_3 = list(range(0,len(datum.loc[datum[\"n\"]==x3])))\n",
    "nop=(datum.loc[datum[\"n\"]==x1].iloc[key_row,key_column]-datum.loc[datum[\"n\"]==x3].iloc[key_row_3,key_column]).div(datum.loc[datum[\"n\"]==x2].iloc[key_row_2,key_column])*100\n"
   ],
   "outputs": [],
   "metadata": {}
  },
  {
   "cell_type": "code",
   "execution_count": 220,
   "source": [
    "nop_us = nop*ns-nop_s\n",
    "nop_s[\"code\"] =\"Sum of Dividends from Participations and Affilliated Enterprises and Interest Income\"\n",
    "\n",
    "nop[\"code\"]=\"Net Income From Other Operations to Net Sales\"\n",
    "nop_us[\"code\"] =\"Net Income From Other Operations Except Dividends and Interest Income\""
   ],
   "outputs": [],
   "metadata": {}
  },
  {
   "cell_type": "code",
   "execution_count": 221,
   "source": [
    "key_column =  list(range(3,14))\n",
    "x1 = 281\n",
    "x3 = 284\n",
    "x2 = 246\n",
    "key_row = list(range(0,len(datum.loc[datum[\"n\"]==x1])))\n",
    "key_row_2 = list(range(0,len(datum.loc[datum[\"n\"]==x2])))\n",
    "key_row_3 = list(range(0,len(datum.loc[datum[\"n\"]==x3])))\n",
    "nep=(datum.loc[datum[\"n\"]==x1].iloc[key_row,key_column]-datum.loc[datum[\"n\"]==x3].iloc[key_row_3,key_column]).div(datum.loc[datum[\"n\"]==x2].iloc[key_row_2,key_column])*100\n",
    "\n",
    "nep[\"code\"] =\"Net Extraordinary Income to Net Sales\""
   ],
   "outputs": [],
   "metadata": {}
  },
  {
   "cell_type": "code",
   "execution_count": 222,
   "source": [
    "key_column =  list(range(3,14))\n",
    "x1 = 277\n",
    "x2 = 288\n",
    "key_row = list(range(0,len(datum.loc[datum[\"n\"]==x1])))\n",
    "key_row_2 = list(range(0,len(datum.loc[datum[\"n\"]==x2])))\n",
    "ebit=datum.loc[datum[\"n\"]==x1].iloc[key_row,key_column].div(datum.loc[datum[\"n\"]==x2].iloc[key_row_2,key_column]+datum.loc[datum[\"n\"]==x1].iloc[key_row,key_column])*100\n",
    "ebit[\"code\"] =\"Financial Expenses to EBIT\""
   ],
   "outputs": [],
   "metadata": {}
  },
  {
   "cell_type": "code",
   "execution_count": 223,
   "source": [
    "key_column =  list(range(3,14))\n",
    "x1 = 288\n",
    "x2 = 246\n",
    "key_row = list(range(0,len(datum.loc[datum[\"n\"]==x1])))\n",
    "key_row_2 = list(range(0,len(datum.loc[datum[\"n\"]==x2])))\n",
    "p=datum.loc[datum[\"n\"]==x1].iloc[key_row,key_column].div(datum.loc[datum[\"n\"]==x2].iloc[key_row_2,key_column])*100\n"
   ],
   "outputs": [],
   "metadata": {}
  },
  {
   "cell_type": "code",
   "execution_count": 224,
   "source": [
    "key_column =  list(range(3,14))\n",
    "x1 = 290\n",
    "x2 = 246\n",
    "key_row = list(range(0,len(datum.loc[datum[\"n\"]==x1])))\n",
    "key_row_2 = list(range(0,len(datum.loc[datum[\"n\"]==x2])))\n",
    "nnp=datum.loc[datum[\"n\"]==x1].iloc[key_row,key_column].div(datum.loc[datum[\"n\"]==x2].iloc[key_row_2,key_column])*100\n"
   ],
   "outputs": [],
   "metadata": {}
  },
  {
   "cell_type": "code",
   "execution_count": 225,
   "source": [
    "tns = (p-nnp).div(p)*100\n"
   ],
   "outputs": [],
   "metadata": {}
  },
  {
   "cell_type": "code",
   "execution_count": 226,
   "source": [
    "p[\"code\"] = \"Profit to Net Sales\"\n",
    "nnp[\"code\"] = \"Net Profit to Net Sales\"\n",
    "tns[\"code\"] = \"Provisions to Government to Profit\""
   ],
   "outputs": [],
   "metadata": {}
  },
  {
   "cell_type": "code",
   "execution_count": 227,
   "source": [
    "key_column =  list(range(3,14))\n",
    "x1 = 3\n",
    "x3 = 9\n",
    "x2 = 124\n",
    "key_row = list(range(0,len(datum.loc[datum[\"n\"]==x1])))\n",
    "key_row_2 = list(range(0,len(datum.loc[datum[\"n\"]==x2])))\n",
    "key_row_3 = list(range(0,len(datum.loc[datum[\"n\"]==x3])))\n",
    "cta=(datum.loc[datum[\"n\"]==x1].iloc[key_row,key_column]+datum.loc[datum[\"n\"]==x3].iloc[key_row_3,key_column]).div(datum.loc[datum[\"n\"]==x2].iloc[key_row_2,key_column])*100\n",
    "\n",
    "cta[\"code\"] =\"Liquid Assets and Marketable Securities to Total Assets\"\n"
   ],
   "outputs": [],
   "metadata": {}
  },
  {
   "cell_type": "code",
   "execution_count": 228,
   "source": [
    "key_column =  list(range(3,14))\n",
    "x1 = 33\n",
    "x2 = 124\n",
    "key_row = list(range(0,len(datum.loc[datum[\"n\"]==x1])))\n",
    "key_row_2 = list(range(0,len(datum.loc[datum[\"n\"]==x2])))\n",
    "ita=datum.loc[datum[\"n\"]==x1].iloc[key_row,key_column].div(datum.loc[datum[\"n\"]==x2].iloc[key_row_2,key_column])*100\n",
    "\n",
    "ita[\"code\"] =\"Inventories to Total Assets\"\n"
   ],
   "outputs": [],
   "metadata": {}
  },
  {
   "cell_type": "code",
   "execution_count": 229,
   "source": [
    "key_column =  list(range(3,14))\n",
    "x1 = 85\n",
    "x2 = 124\n",
    "key_row = list(range(0,len(datum.loc[datum[\"n\"]==x1])))\n",
    "key_row_2 = list(range(0,len(datum.loc[datum[\"n\"]==x2])))\n",
    "capta=datum.loc[datum[\"n\"]==x1].iloc[key_row,key_column].div(datum.loc[datum[\"n\"]==x2].iloc[key_row_2,key_column])*100\n",
    "\n",
    "capta[\"code\"] =\"Tangible Goods to Total Assets\"\n"
   ],
   "outputs": [],
   "metadata": {}
  },
  {
   "cell_type": "code",
   "execution_count": 230,
   "source": [
    "key_code_capital = [\"Land\", \"Land Improvments\",\"Buildings\",\"Machinery,Plant & Equipments\",\n",
    "\"Motor Vehicles\",\"Furniture & Fixtures\",\"Other Tangible Assets\",\"Accumulated Depreciation(-)\",\"Assets in Construction\",\"Advances Paid\"]\n",
    "key_code_capital_n = [86,87,88,89,90,91,92,93,94,95]\n",
    "cap=pd.DataFrame()\n",
    "\n",
    "for i in list(range(0,10)):\n",
    "    key_column =  list(range(3,14))\n",
    "    x1 = key_code_capital_n[i]\n",
    "    x2 = 85\n",
    "    key_row = list(range(0,len(datum.loc[datum[\"n\"]==x1])))\n",
    "    key_row_2 = list(range(0,len(datum.loc[datum[\"n\"]==x2])))\n",
    "    cap1=datum.loc[datum[\"n\"]==x1].iloc[key_row,key_column].div(datum.loc[datum[\"n\"]==x2].iloc[key_row_2,key_column])*100\n",
    "    cap1[\"code\"] =key_code_capital[i]\n",
    "    cap= cap.append(cap1)\n",
    "    \n"
   ],
   "outputs": [],
   "metadata": {}
  },
  {
   "cell_type": "code",
   "execution_count": 231,
   "source": [
    "key_code_capital = [\"Tangible Goods\",\"Land\", \"Land Improvments\",\"Buildings\",\"Machinery,Plant & Equipments\",\n",
    "\"Motor Vehicles\",\"Furniture & Fixtures\",\"Other Tangible Assets\",\"Accumulated Depreciation(-)\",\"Assets in Construction\",\"Advances Paid\"]\n",
    "key_code_capital_n = [85,86,87,88,89,90,91,92,93,94,95]\n",
    "cap2=pd.DataFrame()\n",
    "\n",
    "for i in list(range(0,11)):\n",
    "    key_column =  list(range(3,14))\n",
    "    x1 = key_code_capital_n[i]\n",
    "    key_row = list(range(0,len(datum.loc[datum[\"n\"]==x1])))\n",
    "    cap1=datum.loc[datum[\"n\"]==x1].iloc[key_row,key_column]\n",
    "    gr_cap= pd.DataFrame()\n",
    "    for ii in list(range(1,11)):\n",
    "        gr_cap[cap1.columns[ii]]= (cap1.iloc[:,ii]/cap1.iloc[:,ii-1]-1)*100\n",
    "    gr_cap[\"code\"] =key_code_capital[i]\n",
    "    cap2= cap2.append(gr_cap)\n",
    "    \n"
   ],
   "outputs": [],
   "metadata": {}
  },
  {
   "cell_type": "code",
   "execution_count": 232,
   "source": [
    "key_column =  list(range(3,14))\n",
    "x1 = 15\n",
    "x2 = 124\n",
    "key_row = list(range(0,len(datum.loc[datum[\"n\"]==x1])))\n",
    "key_row_2 = list(range(0,len(datum.loc[datum[\"n\"]==x2])))\n",
    "strta=datum.loc[datum[\"n\"]==x1].iloc[key_row,key_column].div(datum.loc[datum[\"n\"]==x2].iloc[key_row_2,key_column])*100\n",
    "\n",
    "strta[\"code\"] =\"Short-Term Trade Receivables to Total Assets\"\n",
    "\n",
    "key_column =  list(range(3,14))\n",
    "x1 = 59\n",
    "x2 = 124\n",
    "key_row = list(range(0,len(datum.loc[datum[\"n\"]==x1])))\n",
    "key_row_2 = list(range(0,len(datum.loc[datum[\"n\"]==x2])))\n",
    "ltrta=datum.loc[datum[\"n\"]==x1].iloc[key_row,key_column].div(datum.loc[datum[\"n\"]==x2].iloc[key_row_2,key_column])*100\n",
    "\n",
    "ltrta[\"code\"] =\"Long-Term Trade Receivables to Total Assets\"\n",
    "\n",
    "key_column =  list(range(3,14))\n",
    "x1 = 137\n",
    "x2 = 124\n",
    "key_row = list(range(0,len(datum.loc[datum[\"n\"]==x1])))\n",
    "key_row_2 = list(range(0,len(datum.loc[datum[\"n\"]==x2])))\n",
    "stdta=datum.loc[datum[\"n\"]==x1].iloc[key_row,key_column].div(datum.loc[datum[\"n\"]==x2].iloc[key_row_2,key_column])*100\n",
    "\n",
    "stdta[\"code\"] =\"Short-Term Trade Debts to Total Assets\"\n",
    "\n",
    "key_column =  list(range(3,14))\n",
    "x1 = 185\n",
    "x2 = 124\n",
    "key_row = list(range(0,len(datum.loc[datum[\"n\"]==x1])))\n",
    "key_row_2 = list(range(0,len(datum.loc[datum[\"n\"]==x2])))\n",
    "ltdta=datum.loc[datum[\"n\"]==x1].iloc[key_row,key_column].div(datum.loc[datum[\"n\"]==x2].iloc[key_row_2,key_column])*100\n",
    "\n",
    "ltdta[\"code\"] =\"Long-Term Trade Debts to Total Assets\"\n"
   ],
   "outputs": [],
   "metadata": {}
  },
  {
   "cell_type": "code",
   "execution_count": 233,
   "source": [
    "key_column =  list(range(3,14))\n",
    "x1 = 24\n",
    "x2 = 124\n",
    "key_row = list(range(0,len(datum.loc[datum[\"n\"]==x1])))\n",
    "key_row_2 = list(range(0,len(datum.loc[datum[\"n\"]==x2])))\n",
    "sorta=datum.loc[datum[\"n\"]==x1].iloc[key_row,key_column].div(datum.loc[datum[\"n\"]==x2].iloc[key_row_2,key_column])*100\n",
    "\n",
    "sorta[\"code\"] =\"Short-Term Other Receivables to Total Assets\"\n",
    "\n",
    "key_column =  list(range(3,14))\n",
    "x1 = 66\n",
    "x2 = 124\n",
    "key_row = list(range(0,len(datum.loc[datum[\"n\"]==x1])))\n",
    "key_row_2 = list(range(0,len(datum.loc[datum[\"n\"]==x2])))\n",
    "lorta=datum.loc[datum[\"n\"]==x1].iloc[key_row,key_column].div(datum.loc[datum[\"n\"]==x2].iloc[key_row_2,key_column])*100\n",
    "\n",
    "lorta[\"code\"] =\"Long-Term Other Receivables to Total Assets\"\n",
    "\n",
    "key_column =  list(range(3,14))\n",
    "x1 = 143\n",
    "x2 = 124\n",
    "key_row = list(range(0,len(datum.loc[datum[\"n\"]==x1])))\n",
    "key_row_2 = list(range(0,len(datum.loc[datum[\"n\"]==x2])))\n",
    "sodta=datum.loc[datum[\"n\"]==x1].iloc[key_row,key_column].div(datum.loc[datum[\"n\"]==x2].iloc[key_row_2,key_column])*100\n",
    "\n",
    "sodta[\"code\"] =\"Short-Term Other Debts to Total Assets\"\n",
    "\n",
    "key_column =  list(range(3,14))\n",
    "x1 = 191\n",
    "x2 = 124\n",
    "key_row = list(range(0,len(datum.loc[datum[\"n\"]==x1])))\n",
    "key_row_2 = list(range(0,len(datum.loc[datum[\"n\"]==x2])))\n",
    "lodta=datum.loc[datum[\"n\"]==x1].iloc[key_row,key_column].div(datum.loc[datum[\"n\"]==x2].iloc[key_row_2,key_column])*100\n",
    "\n",
    "lodta[\"code\"] =\"Long-Term Other Debts to Total Assets\"\n"
   ],
   "outputs": [],
   "metadata": {}
  },
  {
   "cell_type": "code",
   "execution_count": 234,
   "source": [
    "key_column =  list(range(3,14))\n",
    "x1 = 2\n",
    "x3= 33\n",
    "x4= 45\n",
    "x5= 48\n",
    "x2 = 126\n",
    "key_row = list(range(0,len(datum.loc[datum[\"n\"]==x1])))\n",
    "key_row_2 = list(range(0,len(datum.loc[datum[\"n\"]==x2])))\n",
    "key_row_3 = list(range(0,len(datum.loc[datum[\"n\"]==x3])))\n",
    "key_row_4 = list(range(0,len(datum.loc[datum[\"n\"]==x4])))\n",
    "key_row_5 = list(range(0,len(datum.loc[datum[\"n\"]==x5])))\n",
    "acid=(datum.loc[datum[\"n\"]==x1].iloc[key_row,key_column]-datum.loc[datum[\"n\"]==x3].iloc[key_row_3,key_column]-datum.loc[datum[\"n\"]==x4].iloc[key_row_4,key_column]-datum.loc[datum[\"n\"]==x5].iloc[key_row_5,key_column]).div(datum.loc[datum[\"n\"]==x2].iloc[key_row_2,key_column])*100\n",
    "acid[\"code\"] = \"Acid Test Ratio\""
   ],
   "outputs": [],
   "metadata": {}
  },
  {
   "cell_type": "code",
   "execution_count": 235,
   "source": [
    "key_column =  list(range(3,14))\n",
    "x1 = 126\n",
    "x2 = 2\n",
    "key_row = list(range(0,len(datum.loc[datum[\"n\"]==x1])))\n",
    "key_row_2 = list(range(0,len(datum.loc[datum[\"n\"]==x2])))\n",
    "cur=datum.loc[datum[\"n\"]==x1].iloc[key_row,key_column].div(datum.loc[datum[\"n\"]==x2].iloc[key_row_2,key_column])*100\n",
    "\n",
    "cur[\"code\"] = \"Short-Term Liabilities to Current Assets\""
   ],
   "outputs": [],
   "metadata": {}
  },
  {
   "cell_type": "code",
   "execution_count": 236,
   "source": [
    "key_column =  list(range(3,14))\n",
    "x1 = 177\n",
    "x2 = 236\n",
    "key_row = list(range(0,len(datum.loc[datum[\"n\"]==x1])))\n",
    "key_row_2 = list(range(0,len(datum.loc[datum[\"n\"]==x2])))\n",
    "ltfl=datum.loc[datum[\"n\"]==x1].iloc[key_row,key_column].div(datum.loc[datum[\"n\"]==x2].iloc[key_row_2,key_column])*100\n",
    "ltfl[\"code\"] = \"Long-Term Financial Liabilities to Total Liabilities\""
   ],
   "outputs": [],
   "metadata": {}
  },
  {
   "cell_type": "code",
   "execution_count": 237,
   "source": [
    "key_column =  list(range(3,14))\n",
    "x1 = 127\n",
    "x2 = 236\n",
    "key_row = list(range(0,len(datum.loc[datum[\"n\"]==x1])))\n",
    "key_row_2 = list(range(0,len(datum.loc[datum[\"n\"]==x2])))\n",
    "stfl=datum.loc[datum[\"n\"]==x1].iloc[key_row,key_column].div(datum.loc[datum[\"n\"]==x2].iloc[key_row_2,key_column])*100\n",
    "stfl[\"code\"] = \"Short-Term Financial Liabilities to Total Liabilities\""
   ],
   "outputs": [],
   "metadata": {}
  },
  {
   "cell_type": "code",
   "execution_count": 238,
   "source": [
    "key_column =  list(range(3,14))\n",
    "x1 = 211\n",
    "x2 = 236\n",
    "key_row = list(range(0,len(datum.loc[datum[\"n\"]==x1])))\n",
    "key_row_2 = list(range(0,len(datum.loc[datum[\"n\"]==x2])))\n",
    "equ=datum.loc[datum[\"n\"]==x1].iloc[key_row,key_column].div(datum.loc[datum[\"n\"]==x2].iloc[key_row_2,key_column])*100\n",
    "\n",
    "equ[\"code\"] = \"Shareholders Equity to Total Liabilities\""
   ],
   "outputs": [],
   "metadata": {}
  },
  {
   "cell_type": "code",
   "execution_count": 242,
   "source": [
    "# Key for appending\n",
    "key_appender = [\"exp\",\"gr_gp\",\"op\",\"fxp\",\"fxl\",\"nop_s\",\"nop\",\"nop_us\",\"nep\",\"ebit\",\"p\",\"nnp\",\"tns\",\"cta\",\"ita\",\"capta\",\"strta\",\"ltrta\",\"stdta\",\"ltdta\",\"sorta\",\"lorta\",\"sodta\",\"lodta\",\"acid\",\"cur\",\"ltfl\",\"stfl\",\"equ\"]\n",
    "key_appender_2 = [\"cap\",\"cap2\"]\n",
    "# Empty DataFrame\n",
    "datum1 = pd.DataFrame()\n",
    "# Merging all DataFrames\n",
    "for i in range(0, len(key_appender)):\n",
    "    datum1= datum1.append(pd.DataFrame(data=vars()[key_appender[i]]),ignore_index=False)\n",
    "# Empty DataFrame\n",
    "datum2 = pd.DataFrame()\n",
    "# Merging all DataFrames\n",
    "for i in range(0, len(key_appender_2)):\n",
    "    datum2= datum2.append(pd.DataFrame(data=vars()[key_appender_2[i]]),ignore_index=False)"
   ],
   "outputs": [],
   "metadata": {}
  },
  {
   "cell_type": "code",
   "execution_count": null,
   "source": [
    "datum_finale= pd.DataFrame()\n",
    "for i in list(range(0, len(datum1.T.columns))):\n",
    "    c = pd.DataFrame()\n",
    "    c = pd.DataFrame({\n",
    "    \"name\" :np.repeat(datum1.T.columns[i],len(datum1.T.iloc[range(0,11),i])),\n",
    "    \"code\" :np.repeat(datum1.T.iloc[11,i],len(datum1.T.iloc[range(0,11),i])),\n",
    "    \"data\" :datum1.T.iloc[range(0,11),i]})\n",
    "    datum_finale = datum_finale.append(c, ignore_index=False)\n",
    "\n",
    "datum_finale_2= pd.DataFrame()\n",
    "for i in list(range(0, len(datum2.T.columns))):\n",
    "    c = pd.DataFrame()\n",
    "    c = pd.DataFrame({\n",
    "    \"name\" :np.repeat(datum2.T.columns[i],len(datum2.T.iloc[range(0,11),i])),\n",
    "    \"code\" :np.repeat(datum2.T.iloc[11,i],len(datum2.T.iloc[range(0,11),i])),\n",
    "    \"data\" :datum2.T.iloc[range(0,11),i]})\n",
    "    datum_finale_2 = datum_finale_2.append(c, ignore_index=False)"
   ],
   "outputs": [],
   "metadata": {}
  },
  {
   "cell_type": "code",
   "execution_count": null,
   "source": [
    "with pd.ExcelWriter(\"other_var.xlsx\") as writer:  \n",
    "        datum_finale.to_excel(writer, sheet_name='Sheet1')\n",
    "        datum_finale_2.to_excel(writer, sheet_name='Sheet2')"
   ],
   "outputs": [],
   "metadata": {}
  },
  {
   "cell_type": "code",
   "execution_count": null,
   "source": [
    "datum_finale.to_csv(\"/home/ismetovic/Documents/GitHub/firms/other_var.csv\")\n",
    "datum_finale_2.to_csv(\"/home/ismetovic/Documents/GitHub/firms/other_var_2.csv\")"
   ],
   "outputs": [],
   "metadata": {}
  }
 ],
 "metadata": {
  "orig_nbformat": 4,
  "language_info": {
   "name": "python",
   "version": "3.9.7",
   "mimetype": "text/x-python",
   "codemirror_mode": {
    "name": "ipython",
    "version": 3
   },
   "pygments_lexer": "ipython3",
   "nbconvert_exporter": "python",
   "file_extension": ".py"
  },
  "kernelspec": {
   "name": "python3",
   "display_name": "Python 3.9.7 64-bit"
  },
  "interpreter": {
   "hash": "e7370f93d1d0cde622a1f8e1c04877d8463912d04d973331ad4851f04de6915a"
  }
 },
 "nbformat": 4,
 "nbformat_minor": 2
}