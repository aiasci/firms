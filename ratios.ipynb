{
 "cells": [
  {
   "cell_type": "code",
   "execution_count": 81,
   "metadata": {},
   "outputs": [],
   "source": [
    "import pandas as pd\n",
    "import numpy as np"
   ]
  },
  {
   "cell_type": "code",
   "execution_count": 82,
   "metadata": {},
   "outputs": [],
   "source": [
    "df = pd.read_excel('data.xlsx')\n",
    "df = df.ffill()\n",
    "key_sector = list(df['Sector'].unique())\n",
    "key_size = list(df['Size'].unique())\n",
    "array = [ list(df['Sector']) , list(df['Size'])]\n",
    "tuples = list(zip(*array))\n",
    "index = pd.MultiIndex.from_tuples(tuples, names=[\"Sector\", \"Size\"])\n",
    "df.index = index\n",
    "del(df['Sector'])\n",
    "del(df['Size'])"
   ]
  },
  {
   "cell_type": "code",
   "execution_count": 83,
   "metadata": {},
   "outputs": [],
   "source": [
    "## Export to Net Sales\n",
    "x1 = df[df['n'] == 238]\n",
    "del(x1['n'],x1['indicator'])\n",
    "x2 = df[df['n'] == 244]\n",
    "del(x2['n'],x2['indicator'])\n",
    "ex = x1/x2*100\n",
    "ex.insert(0,'code', np.repeat('Export to Net Sales', len(ex)))"
   ]
  },
  {
   "cell_type": "code",
   "execution_count": 84,
   "metadata": {},
   "outputs": [],
   "source": [
    "## Operational Profit to Net Sales\n",
    "x1 = df[df['n'] == 255]\n",
    "del(x1['n'],x1['indicator'])\n",
    "x2 = df[df['n'] == 244]\n",
    "del(x2['n'],x2['indicator'])\n",
    "op = x1/x2*100\n",
    "op.insert(0,'code', np.repeat('Operational Profit to Net Sales', len(op)))"
   ]
  },
  {
   "cell_type": "code",
   "execution_count": 85,
   "metadata": {},
   "outputs": [],
   "source": [
    "## Net Income From Other Operations to Net Sales\n",
    "x1 = df[df['n'] == 256]\n",
    "del(x1['n'],x1['indicator'])\n",
    "x2 = df[df['n'] == 267]\n",
    "del(x2['n'],x2['indicator'])\n",
    "x3 = df[df['n'] == 244]\n",
    "del(x3['n'],x3['indicator'])\n",
    "nop = (x1-x2)/x3*100\n",
    "nop.insert(0,'code', np.repeat('Net Income From Other Operations to Net Sales', len(nop)))"
   ]
  },
  {
   "cell_type": "code",
   "execution_count": 86,
   "metadata": {},
   "outputs": [],
   "source": [
    "## Net Extraordinary Income to Net Sales\n",
    "x1 = df[df['n'] == 279]\n",
    "del(x1['n'],x1['indicator'])\n",
    "x2 = df[df['n'] == 282]\n",
    "del(x2['n'],x2['indicator'])\n",
    "x3 = df[df['n'] == 244]\n",
    "del(x3['n'],x3['indicator'])\n",
    "nep = (x1-x2)/x3*100\n",
    "nep.insert(0,'code', np.repeat('Net Extraordinary Income to Net Sales', len(nep)))"
   ]
  },
  {
   "cell_type": "code",
   "execution_count": 87,
   "metadata": {},
   "outputs": [],
   "source": [
    "## Financial Expenses to EBIT\n",
    "x1 = df[df['n'] == 275]\n",
    "del(x1['n'],x1['indicator'])\n",
    "x2 = df[df['n'] == 286]\n",
    "del(x2['n'],x2['indicator'])\n",
    "ebit = x1/(x1+x2)*100\n",
    "ebit.insert(0,'code', np.repeat('Financial Expenses to EBIT', len(ebit)))"
   ]
  },
  {
   "cell_type": "code",
   "execution_count": 88,
   "metadata": {},
   "outputs": [],
   "source": [
    "## Profit to Net Sales\n",
    "x1 = df[df['n'] == 286]\n",
    "del(x1['n'],x1['indicator'])\n",
    "x2 = df[df['n'] == 244]\n",
    "del(x2['n'],x2['indicator'])\n",
    "p = x1/x2*100\n",
    "p.insert(0,'code', np.repeat('Profit to Net Sales', len(p)))"
   ]
  },
  {
   "cell_type": "code",
   "execution_count": 89,
   "metadata": {},
   "outputs": [],
   "source": [
    "## Net Profit to Net Sales\n",
    "x1 = df[df['n'] == 288]\n",
    "del(x1['n'],x1['indicator'])\n",
    "x2 = df[df['n'] == 244]\n",
    "del(x2['n'],x2['indicator'])\n",
    "nnp = x1/x2*100\n",
    "nnp.insert(0,'code', np.repeat('Net Profit to Net Sales', len(nnp)))"
   ]
  },
  {
   "cell_type": "code",
   "execution_count": 90,
   "metadata": {},
   "outputs": [],
   "source": [
    "## Acid Test Ratio\n",
    "x1 = df[df['n'] == 0]\n",
    "del(x1['n'],x1['indicator'])\n",
    "x2 = df[df['n'] == 31]\n",
    "del(x2['n'],x2['indicator'])\n",
    "x3 = df[df['n'] == 43]\n",
    "del(x3['n'],x3['indicator'])\n",
    "x4 = df[df['n'] == 46]\n",
    "del(x4['n'],x4['indicator'])\n",
    "x5 = df[df['n'] == 124]\n",
    "del(x5['n'],x5['indicator'])\n",
    "acid = (x1-x2-x3-x4)/x5*100\n",
    "acid.insert(0,'code', np.repeat('Acid Test Ratio', len(acid)))"
   ]
  },
  {
   "cell_type": "code",
   "execution_count": 91,
   "metadata": {},
   "outputs": [],
   "source": [
    "## Short-Term Liabilities to Current Assets\n",
    "x1 = df[df['n'] == 124]\n",
    "del(x1['n'],x1['indicator'])\n",
    "x2 = df[df['n'] == 0]\n",
    "del(x2['n'],x2['indicator'])\n",
    "cur = x1/x2*100\n",
    "cur.insert(0,'code', np.repeat('Short-Term Liabilities to Current Assets', len(cur)))"
   ]
  },
  {
   "cell_type": "code",
   "execution_count": 92,
   "metadata": {},
   "outputs": [],
   "source": [
    "## EBITDA to Total Assets\n",
    "x1 = df[df['n'] == 275]\n",
    "del(x1['n'],x1['indicator'])\n",
    "x2 = df[df['n'] == 286]\n",
    "del(x2['n'],x2['indicator'])\n",
    "x3 = df[df['n'] == 91]\n",
    "del(x3['n'],x3['indicator'])\n",
    "x4 = df[df['n'] == 122]\n",
    "del(x4['n'],x4['indicator'])\n",
    "ebitda = (x1+x2+x3)/x4*100\n",
    "ebitda.insert(0,'code', np.repeat('EBITDA to Total Assets', len(ebitda)))"
   ]
  },
  {
   "cell_type": "code",
   "execution_count": 93,
   "metadata": {},
   "outputs": [],
   "source": [
    "## Total Debt to EBITDA\n",
    "x1 = df[df['n'] == 275]\n",
    "del(x1['n'],x1['indicator'])\n",
    "x2 = df[df['n'] == 286]\n",
    "del(x2['n'],x2['indicator'])\n",
    "x3 = df[df['n'] == 91]\n",
    "del(x3['n'],x3['indicator'])\n",
    "x4 = df[df['n'] == 122]\n",
    "del(x4['n'],x4['indicator'])\n",
    "x5 = df[df['n'] == 209]\n",
    "del(x5['n'],x5['indicator'])\n",
    "ebitdad = (x4-x5)/(x1+x2+x3)*100\n",
    "ebitdad.insert(0,'code', np.repeat('Total Debt to EBITDA', len(ebitdad)))"
   ]
  },
  {
   "cell_type": "code",
   "execution_count": null,
   "metadata": {},
   "outputs": [],
   "source": [
    "## Long-Term Financial Liabilities to Total Liabilities\n",
    "x1 = df[df['n'] == 175]\n",
    "del(x1['n'],x1['indicator'])\n",
    "x2 = df[df['n'] == 234]\n",
    "del(x2['n'],x2['indicator'])\n",
    "ltfl = x1/x2*100\n",
    "ltfl.insert(0,'code', np.repeat('Long-Term Financial Liabilities to Total Liabilities', len(ltfl)))"
   ]
  },
  {
   "cell_type": "code",
   "execution_count": 97,
   "metadata": {},
   "outputs": [],
   "source": [
    "## Long-Term Trade and Other Liabilities to Total Liabilities\n",
    "x1 = df[df['n'] == 183]\n",
    "del(x1['n'],x1['indicator'])\n",
    "x2 = df[df['n'] == 189]\n",
    "del(x2['n'],x2['indicator'])\n",
    "x3 = df[df['n'] == 234]\n",
    "del(x3['n'],x3['indicator'])\n",
    "ltol = (x1+x2)/x3*100\n",
    "ltol.insert(0,'code', np.repeat('Long-Term Financial Liabilities to Total Liabilities', len(ltol)))"
   ]
  },
  {
   "cell_type": "code",
   "execution_count": null,
   "metadata": {},
   "outputs": [],
   "source": [
    "## Long-Term Liabilities to Total Liabilities\n",
    "x1 = df[df['n'] == 174]\n",
    "del(x1['n'],x1['indicator'])\n",
    "x2 = df[df['n'] == 234]\n",
    "del(x2['n'],x2['indicator'])\n",
    "ltl = x1/x2*100\n",
    "ltl.insert(0,'code', np.repeat('Long-Term Liabilities to Total Liabilities', len(ltl)))"
   ]
  },
  {
   "cell_type": "code",
   "execution_count": 100,
   "metadata": {},
   "outputs": [],
   "source": [
    "## Short-Term Financial Liabilities to Total Liabilities\n",
    "x1 = df[df['n'] == 125]\n",
    "del(x1['n'],x1['indicator'])\n",
    "x2 = df[df['n'] == 234]\n",
    "del(x2['n'],x2['indicator'])\n",
    "stfl = x1/x2*100\n",
    "stfl.insert(0,'code', np.repeat('Short-Term Financial Liabilities to Total Liabilities', len(stfl)))"
   ]
  },
  {
   "cell_type": "code",
   "execution_count": 102,
   "metadata": {},
   "outputs": [],
   "source": [
    "## Short-Term Trade and Other Liabilities to Total Liabilities\n",
    "x1 = df[df['n'] == 135]\n",
    "del(x1['n'],x1['indicator'])\n",
    "x2 = df[df['n'] == 141]\n",
    "del(x2['n'],x2['indicator'])\n",
    "x3 = df[df['n'] == 234]\n",
    "del(x3['n'],x3['indicator'])\n",
    "stol = (x1+x2)/x3*100\n",
    "stol.insert(0,'code', np.repeat('Short-Term Trade and Other Liabilities to Total Liabilities', len(stol)))"
   ]
  },
  {
   "cell_type": "code",
   "execution_count": null,
   "metadata": {},
   "outputs": [],
   "source": [
    "## Short-Term Liabilities to Total Liabilities\n",
    "x1 = df[df['n'] == 124]\n",
    "del(x1['n'],x1['indicator'])\n",
    "x2 = df[df['n'] == 234]\n",
    "del(x2['n'],x2['indicator'])\n",
    "stl = x1/x2*100\n",
    "stl.insert(0,'code', np.repeat('Short-Term Liabilities to Total Liabilities', len(stl)))"
   ]
  },
  {
   "cell_type": "code",
   "execution_count": 105,
   "metadata": {},
   "outputs": [],
   "source": [
    "## Shareholders Equity to Total Liabilities\n",
    "x1 = df[df['n'] == 209]\n",
    "del(x1['n'],x1['indicator'])\n",
    "x2 = df[df['n'] == 234]\n",
    "del(x2['n'],x2['indicator'])\n",
    "equi = x1/x2*100\n",
    "equi.insert(0,'code', np.repeat('Shareholders Equity to Total Liabilities', len(equi)))"
   ]
  },
  {
   "cell_type": "code",
   "execution_count": 107,
   "metadata": {},
   "outputs": [],
   "source": [
    "datum = pd.DataFrame()\n",
    "datum = pd.concat([datum,ex,op,nop,nep,ebit,p,nnp,acid,cur,ebitda,ebitdad,ltfl,ltol,ltl,stfl,stol,stl,equi])"
   ]
  },
  {
   "cell_type": "code",
   "execution_count": 109,
   "metadata": {},
   "outputs": [],
   "source": [
    "datum.to_excel('ratios.xlsx')"
   ]
  }
 ],
 "metadata": {
  "kernelspec": {
   "display_name": "Python 3.9.7 64-bit ('Python39')",
   "language": "python",
   "name": "python3"
  },
  "language_info": {
   "codemirror_mode": {
    "name": "ipython",
    "version": 3
   },
   "file_extension": ".py",
   "mimetype": "text/x-python",
   "name": "python",
   "nbconvert_exporter": "python",
   "pygments_lexer": "ipython3",
   "version": "3.9.7"
  },
  "orig_nbformat": 4,
  "vscode": {
   "interpreter": {
    "hash": "cf92aa13fedf815d5c8dd192b8d835913fde3e8bc926b2a0ad6cc74ef2ba3ca2"
   }
  }
 },
 "nbformat": 4,
 "nbformat_minor": 2
}
